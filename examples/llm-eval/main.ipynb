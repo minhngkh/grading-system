{
 "cells": [
  {
   "cell_type": "code",
   "execution_count": 130,
   "id": "55c4abb7",
   "metadata": {},
   "outputs": [],
   "source": [
    "import pandas as pd\n",
    "import matplotlib.pyplot as plt\n",
    "import plotly.express as px"
   ]
  },
  {
   "cell_type": "code",
   "execution_count": 131,
   "id": "cf9a6974",
   "metadata": {},
   "outputs": [],
   "source": [
    "filepath = \"./data/results.csv\"\n",
    "\n",
    "df = pd.read_csv(filepath, comment=\"/\", skipinitialspace=True)\n",
    "\n",
    "# Calculate stats (count and average score per rubric)\n",
    "# stats = df.groupby(\"name\").agg(\n",
    "#     count=(\"score\", \"count\"), avg=(\"score\", \"mean\"), std=(\"score\", \"std\")\n",
    "# )\n",
    "\n",
    "# stats"
   ]
  },
  {
   "cell_type": "code",
   "execution_count": 132,
   "id": "34119c52",
   "metadata": {},
   "outputs": [
    {
     "data": {
      "application/vnd.plotly.v1+json": {
       "config": {
        "plotlyServerURL": "https://plot.ly"
       },
       "data": [
        {
         "alignmentgroup": "True",
         "hovertemplate": "rubric=%{x}<br>score=%{y}<extra></extra>",
         "legendgroup": "",
         "marker": {
          "color": "#636efa"
         },
         "name": "",
         "notched": false,
         "offsetgroup": "",
         "orientation": "v",
         "showlegend": false,
         "type": "box",
         "x": [
          "simple",
          "simple",
          "simple",
          "simple",
          "simple",
          "simple",
          "simple",
          "simple",
          "simple",
          "simple",
          "simple",
          "simple",
          "simple",
          "simple",
          "simple",
          "simple",
          "simple",
          "simple",
          "simple",
          "simple",
          "simple",
          "simple",
          "simple",
          "simple",
          "simple",
          "simple",
          "simple",
          "simple",
          "simple",
          "simple",
          "simple",
          "simple",
          "simple",
          "simple",
          "simple",
          "simple",
          "simple",
          "simple",
          "simple",
          "simple",
          "simple",
          "simple",
          "simple",
          "simple",
          "simple",
          "simple",
          "simple",
          "simple",
          "simple",
          "simple",
          "simple",
          "simple",
          "simple",
          "simple",
          "simple",
          "simple",
          "simple",
          "simple",
          "simple",
          "simple",
          "simple",
          "simple",
          "simple",
          "simple",
          "simple",
          "simple",
          "simple",
          "simple",
          "simple",
          "simple",
          "simple",
          "simple",
          "simple",
          "simple",
          "simple",
          "simple",
          "simple",
          "simple",
          "simple",
          "simple",
          "simple",
          "simple",
          "simple",
          "simple",
          "simple",
          "simple",
          "simple",
          "simple",
          "simple",
          "simple",
          "simple",
          "simple",
          "simple",
          "simple",
          "simple",
          "simple",
          "simple",
          "simple",
          "simple",
          "simple",
          "simple",
          "simple",
          "simple",
          "simple",
          "simple",
          "simple",
          "simple",
          "simple",
          "simple",
          "simple",
          "simple",
          "simple",
          "simple",
          "simple",
          "simple",
          "simple",
          "simple",
          "simple",
          "simple",
          "simple",
          "complex",
          "complex",
          "complex",
          "complex",
          "complex",
          "complex",
          "complex",
          "complex",
          "complex",
          "complex",
          "complex",
          "complex",
          "complex",
          "complex",
          "complex",
          "complex",
          "complex",
          "complex",
          "complex",
          "complex",
          "complex",
          "complex",
          "complex",
          "complex",
          "complex",
          "complex",
          "complex",
          "complex",
          "complex",
          "complex",
          "complex",
          "complex",
          "complex",
          "complex",
          "complex",
          "complex",
          "complex",
          "complex",
          "complex",
          "complex",
          "complex",
          "complex",
          "complex",
          "complex",
          "complex",
          "complex",
          "complex",
          "complex",
          "complex",
          "complex",
          "complex",
          "complex",
          "complex",
          "complex",
          "complex",
          "complex",
          "complex",
          "complex",
          "complex",
          "complex",
          "complex",
          "complex",
          "complex",
          "complex",
          "complex",
          "complex",
          "complex",
          "complex",
          "complex",
          "complex",
          "complex",
          "complex",
          "complex",
          "complex",
          "complex",
          "complex",
          "complex",
          "complex",
          "complex",
          "complex",
          "complex",
          "complex",
          "complex",
          "complex",
          "complex",
          "complex",
          "complex",
          "complex",
          "complex",
          "complex",
          "complex",
          "complex",
          "complex",
          "complex",
          "complex",
          "complex",
          "complex",
          "complex",
          "complex",
          "complex",
          "complex",
          "complex",
          "complex",
          "complex",
          "complex",
          "complex",
          "complex",
          "complex",
          "complex",
          "complex",
          "complex",
          "complex",
          "complex",
          "complex",
          "complex",
          "complex",
          "complex",
          "complex",
          "complex",
          "complex"
         ],
         "x0": " ",
         "xaxis": "x",
         "y": {
          "bdata": "ZGRkZGRkZGRkZFtkZGRkZGRkZGRkZGRkZGRkZGRkZGRkZGRkZGRkZGRkZGRkZGRkZGRkZGRkZGRkZGRkZGRkZGRkZGRbZFtkZGRbZGRkZGRbZGRkZGRkZFtkZGRkW2RkZGRkZGRkZGRkZFtkW2RkZFtkZFtbW2RfV2RXZGRXZGRXV2RkZFdXV2RXZGRXZFdXZGRkV2RXZGRkV2RXV2RkZGRkZGRkV2RkZGRXZFdXZGRXV2RkZGRXZFdkZGRkZGRkZGRkV2RXZFdkZGRkZGRkZFdkZFdXZFdkZGRXV2RXV1dkV1dXV1dkZGRkV2RkZFdX",
          "dtype": "i1"
         },
         "y0": " ",
         "yaxis": "y"
        }
       ],
       "layout": {
        "boxmode": "group",
        "legend": {
         "tracegroupgap": 0
        },
        "margin": {
         "t": 60
        },
        "template": {
         "data": {
          "bar": [
           {
            "error_x": {
             "color": "#2a3f5f"
            },
            "error_y": {
             "color": "#2a3f5f"
            },
            "marker": {
             "line": {
              "color": "#E5ECF6",
              "width": 0.5
             },
             "pattern": {
              "fillmode": "overlay",
              "size": 10,
              "solidity": 0.2
             }
            },
            "type": "bar"
           }
          ],
          "barpolar": [
           {
            "marker": {
             "line": {
              "color": "#E5ECF6",
              "width": 0.5
             },
             "pattern": {
              "fillmode": "overlay",
              "size": 10,
              "solidity": 0.2
             }
            },
            "type": "barpolar"
           }
          ],
          "carpet": [
           {
            "aaxis": {
             "endlinecolor": "#2a3f5f",
             "gridcolor": "white",
             "linecolor": "white",
             "minorgridcolor": "white",
             "startlinecolor": "#2a3f5f"
            },
            "baxis": {
             "endlinecolor": "#2a3f5f",
             "gridcolor": "white",
             "linecolor": "white",
             "minorgridcolor": "white",
             "startlinecolor": "#2a3f5f"
            },
            "type": "carpet"
           }
          ],
          "choropleth": [
           {
            "colorbar": {
             "outlinewidth": 0,
             "ticks": ""
            },
            "type": "choropleth"
           }
          ],
          "contour": [
           {
            "colorbar": {
             "outlinewidth": 0,
             "ticks": ""
            },
            "colorscale": [
             [
              0,
              "#0d0887"
             ],
             [
              0.1111111111111111,
              "#46039f"
             ],
             [
              0.2222222222222222,
              "#7201a8"
             ],
             [
              0.3333333333333333,
              "#9c179e"
             ],
             [
              0.4444444444444444,
              "#bd3786"
             ],
             [
              0.5555555555555556,
              "#d8576b"
             ],
             [
              0.6666666666666666,
              "#ed7953"
             ],
             [
              0.7777777777777778,
              "#fb9f3a"
             ],
             [
              0.8888888888888888,
              "#fdca26"
             ],
             [
              1,
              "#f0f921"
             ]
            ],
            "type": "contour"
           }
          ],
          "contourcarpet": [
           {
            "colorbar": {
             "outlinewidth": 0,
             "ticks": ""
            },
            "type": "contourcarpet"
           }
          ],
          "heatmap": [
           {
            "colorbar": {
             "outlinewidth": 0,
             "ticks": ""
            },
            "colorscale": [
             [
              0,
              "#0d0887"
             ],
             [
              0.1111111111111111,
              "#46039f"
             ],
             [
              0.2222222222222222,
              "#7201a8"
             ],
             [
              0.3333333333333333,
              "#9c179e"
             ],
             [
              0.4444444444444444,
              "#bd3786"
             ],
             [
              0.5555555555555556,
              "#d8576b"
             ],
             [
              0.6666666666666666,
              "#ed7953"
             ],
             [
              0.7777777777777778,
              "#fb9f3a"
             ],
             [
              0.8888888888888888,
              "#fdca26"
             ],
             [
              1,
              "#f0f921"
             ]
            ],
            "type": "heatmap"
           }
          ],
          "histogram": [
           {
            "marker": {
             "pattern": {
              "fillmode": "overlay",
              "size": 10,
              "solidity": 0.2
             }
            },
            "type": "histogram"
           }
          ],
          "histogram2d": [
           {
            "colorbar": {
             "outlinewidth": 0,
             "ticks": ""
            },
            "colorscale": [
             [
              0,
              "#0d0887"
             ],
             [
              0.1111111111111111,
              "#46039f"
             ],
             [
              0.2222222222222222,
              "#7201a8"
             ],
             [
              0.3333333333333333,
              "#9c179e"
             ],
             [
              0.4444444444444444,
              "#bd3786"
             ],
             [
              0.5555555555555556,
              "#d8576b"
             ],
             [
              0.6666666666666666,
              "#ed7953"
             ],
             [
              0.7777777777777778,
              "#fb9f3a"
             ],
             [
              0.8888888888888888,
              "#fdca26"
             ],
             [
              1,
              "#f0f921"
             ]
            ],
            "type": "histogram2d"
           }
          ],
          "histogram2dcontour": [
           {
            "colorbar": {
             "outlinewidth": 0,
             "ticks": ""
            },
            "colorscale": [
             [
              0,
              "#0d0887"
             ],
             [
              0.1111111111111111,
              "#46039f"
             ],
             [
              0.2222222222222222,
              "#7201a8"
             ],
             [
              0.3333333333333333,
              "#9c179e"
             ],
             [
              0.4444444444444444,
              "#bd3786"
             ],
             [
              0.5555555555555556,
              "#d8576b"
             ],
             [
              0.6666666666666666,
              "#ed7953"
             ],
             [
              0.7777777777777778,
              "#fb9f3a"
             ],
             [
              0.8888888888888888,
              "#fdca26"
             ],
             [
              1,
              "#f0f921"
             ]
            ],
            "type": "histogram2dcontour"
           }
          ],
          "mesh3d": [
           {
            "colorbar": {
             "outlinewidth": 0,
             "ticks": ""
            },
            "type": "mesh3d"
           }
          ],
          "parcoords": [
           {
            "line": {
             "colorbar": {
              "outlinewidth": 0,
              "ticks": ""
             }
            },
            "type": "parcoords"
           }
          ],
          "pie": [
           {
            "automargin": true,
            "type": "pie"
           }
          ],
          "scatter": [
           {
            "fillpattern": {
             "fillmode": "overlay",
             "size": 10,
             "solidity": 0.2
            },
            "type": "scatter"
           }
          ],
          "scatter3d": [
           {
            "line": {
             "colorbar": {
              "outlinewidth": 0,
              "ticks": ""
             }
            },
            "marker": {
             "colorbar": {
              "outlinewidth": 0,
              "ticks": ""
             }
            },
            "type": "scatter3d"
           }
          ],
          "scattercarpet": [
           {
            "marker": {
             "colorbar": {
              "outlinewidth": 0,
              "ticks": ""
             }
            },
            "type": "scattercarpet"
           }
          ],
          "scattergeo": [
           {
            "marker": {
             "colorbar": {
              "outlinewidth": 0,
              "ticks": ""
             }
            },
            "type": "scattergeo"
           }
          ],
          "scattergl": [
           {
            "marker": {
             "colorbar": {
              "outlinewidth": 0,
              "ticks": ""
             }
            },
            "type": "scattergl"
           }
          ],
          "scattermap": [
           {
            "marker": {
             "colorbar": {
              "outlinewidth": 0,
              "ticks": ""
             }
            },
            "type": "scattermap"
           }
          ],
          "scattermapbox": [
           {
            "marker": {
             "colorbar": {
              "outlinewidth": 0,
              "ticks": ""
             }
            },
            "type": "scattermapbox"
           }
          ],
          "scatterpolar": [
           {
            "marker": {
             "colorbar": {
              "outlinewidth": 0,
              "ticks": ""
             }
            },
            "type": "scatterpolar"
           }
          ],
          "scatterpolargl": [
           {
            "marker": {
             "colorbar": {
              "outlinewidth": 0,
              "ticks": ""
             }
            },
            "type": "scatterpolargl"
           }
          ],
          "scatterternary": [
           {
            "marker": {
             "colorbar": {
              "outlinewidth": 0,
              "ticks": ""
             }
            },
            "type": "scatterternary"
           }
          ],
          "surface": [
           {
            "colorbar": {
             "outlinewidth": 0,
             "ticks": ""
            },
            "colorscale": [
             [
              0,
              "#0d0887"
             ],
             [
              0.1111111111111111,
              "#46039f"
             ],
             [
              0.2222222222222222,
              "#7201a8"
             ],
             [
              0.3333333333333333,
              "#9c179e"
             ],
             [
              0.4444444444444444,
              "#bd3786"
             ],
             [
              0.5555555555555556,
              "#d8576b"
             ],
             [
              0.6666666666666666,
              "#ed7953"
             ],
             [
              0.7777777777777778,
              "#fb9f3a"
             ],
             [
              0.8888888888888888,
              "#fdca26"
             ],
             [
              1,
              "#f0f921"
             ]
            ],
            "type": "surface"
           }
          ],
          "table": [
           {
            "cells": {
             "fill": {
              "color": "#EBF0F8"
             },
             "line": {
              "color": "white"
             }
            },
            "header": {
             "fill": {
              "color": "#C8D4E3"
             },
             "line": {
              "color": "white"
             }
            },
            "type": "table"
           }
          ]
         },
         "layout": {
          "annotationdefaults": {
           "arrowcolor": "#2a3f5f",
           "arrowhead": 0,
           "arrowwidth": 1
          },
          "autotypenumbers": "strict",
          "coloraxis": {
           "colorbar": {
            "outlinewidth": 0,
            "ticks": ""
           }
          },
          "colorscale": {
           "diverging": [
            [
             0,
             "#8e0152"
            ],
            [
             0.1,
             "#c51b7d"
            ],
            [
             0.2,
             "#de77ae"
            ],
            [
             0.3,
             "#f1b6da"
            ],
            [
             0.4,
             "#fde0ef"
            ],
            [
             0.5,
             "#f7f7f7"
            ],
            [
             0.6,
             "#e6f5d0"
            ],
            [
             0.7,
             "#b8e186"
            ],
            [
             0.8,
             "#7fbc41"
            ],
            [
             0.9,
             "#4d9221"
            ],
            [
             1,
             "#276419"
            ]
           ],
           "sequential": [
            [
             0,
             "#0d0887"
            ],
            [
             0.1111111111111111,
             "#46039f"
            ],
            [
             0.2222222222222222,
             "#7201a8"
            ],
            [
             0.3333333333333333,
             "#9c179e"
            ],
            [
             0.4444444444444444,
             "#bd3786"
            ],
            [
             0.5555555555555556,
             "#d8576b"
            ],
            [
             0.6666666666666666,
             "#ed7953"
            ],
            [
             0.7777777777777778,
             "#fb9f3a"
            ],
            [
             0.8888888888888888,
             "#fdca26"
            ],
            [
             1,
             "#f0f921"
            ]
           ],
           "sequentialminus": [
            [
             0,
             "#0d0887"
            ],
            [
             0.1111111111111111,
             "#46039f"
            ],
            [
             0.2222222222222222,
             "#7201a8"
            ],
            [
             0.3333333333333333,
             "#9c179e"
            ],
            [
             0.4444444444444444,
             "#bd3786"
            ],
            [
             0.5555555555555556,
             "#d8576b"
            ],
            [
             0.6666666666666666,
             "#ed7953"
            ],
            [
             0.7777777777777778,
             "#fb9f3a"
            ],
            [
             0.8888888888888888,
             "#fdca26"
            ],
            [
             1,
             "#f0f921"
            ]
           ]
          },
          "colorway": [
           "#636efa",
           "#EF553B",
           "#00cc96",
           "#ab63fa",
           "#FFA15A",
           "#19d3f3",
           "#FF6692",
           "#B6E880",
           "#FF97FF",
           "#FECB52"
          ],
          "font": {
           "color": "#2a3f5f"
          },
          "geo": {
           "bgcolor": "white",
           "lakecolor": "white",
           "landcolor": "#E5ECF6",
           "showlakes": true,
           "showland": true,
           "subunitcolor": "white"
          },
          "hoverlabel": {
           "align": "left"
          },
          "hovermode": "closest",
          "mapbox": {
           "style": "light"
          },
          "paper_bgcolor": "white",
          "plot_bgcolor": "#E5ECF6",
          "polar": {
           "angularaxis": {
            "gridcolor": "white",
            "linecolor": "white",
            "ticks": ""
           },
           "bgcolor": "#E5ECF6",
           "radialaxis": {
            "gridcolor": "white",
            "linecolor": "white",
            "ticks": ""
           }
          },
          "scene": {
           "xaxis": {
            "backgroundcolor": "#E5ECF6",
            "gridcolor": "white",
            "gridwidth": 2,
            "linecolor": "white",
            "showbackground": true,
            "ticks": "",
            "zerolinecolor": "white"
           },
           "yaxis": {
            "backgroundcolor": "#E5ECF6",
            "gridcolor": "white",
            "gridwidth": 2,
            "linecolor": "white",
            "showbackground": true,
            "ticks": "",
            "zerolinecolor": "white"
           },
           "zaxis": {
            "backgroundcolor": "#E5ECF6",
            "gridcolor": "white",
            "gridwidth": 2,
            "linecolor": "white",
            "showbackground": true,
            "ticks": "",
            "zerolinecolor": "white"
           }
          },
          "shapedefaults": {
           "line": {
            "color": "#2a3f5f"
           }
          },
          "ternary": {
           "aaxis": {
            "gridcolor": "white",
            "linecolor": "white",
            "ticks": ""
           },
           "baxis": {
            "gridcolor": "white",
            "linecolor": "white",
            "ticks": ""
           },
           "bgcolor": "#E5ECF6",
           "caxis": {
            "gridcolor": "white",
            "linecolor": "white",
            "ticks": ""
           }
          },
          "title": {
           "x": 0.05
          },
          "xaxis": {
           "automargin": true,
           "gridcolor": "white",
           "linecolor": "white",
           "ticks": "",
           "title": {
            "standoff": 15
           },
           "zerolinecolor": "white",
           "zerolinewidth": 2
          },
          "yaxis": {
           "automargin": true,
           "gridcolor": "white",
           "linecolor": "white",
           "ticks": "",
           "title": {
            "standoff": 15
           },
           "zerolinecolor": "white",
           "zerolinewidth": 2
          }
         }
        },
        "xaxis": {
         "anchor": "y",
         "domain": [
          0,
          1
         ],
         "title": {
          "text": "rubric"
         }
        },
        "yaxis": {
         "anchor": "x",
         "domain": [
          0,
          1
         ],
         "title": {
          "text": "score"
         }
        }
       }
      }
     },
     "metadata": {},
     "output_type": "display_data"
    }
   ],
   "source": [
    "fig = px.box(df[(df[\"type\"] == \"code\") & (df[\"name\"] == \"normal.text\")], x = \"rubric\", y = \"score\")\n",
    "fig.show()"
   ]
  },
  {
   "cell_type": "code",
   "execution_count": 133,
   "id": "b046d9fb",
   "metadata": {},
   "outputs": [
    {
     "data": {
      "application/vnd.plotly.v1+json": {
       "config": {
        "plotlyServerURL": "https://plot.ly"
       },
       "data": [
        {
         "alignmentgroup": "True",
         "hovertemplate": "rubric=%{x}<br>score=%{y}<extra></extra>",
         "legendgroup": "",
         "marker": {
          "color": "#636efa"
         },
         "name": "",
         "notched": false,
         "offsetgroup": "",
         "orientation": "v",
         "showlegend": false,
         "type": "box",
         "x": [
          "complex",
          "complex",
          "complex",
          "complex",
          "complex",
          "complex",
          "complex",
          "complex",
          "complex",
          "complex",
          "complex",
          "complex",
          "complex",
          "complex",
          "complex",
          "complex",
          "complex",
          "complex",
          "complex",
          "complex",
          "complex",
          "complex",
          "complex",
          "complex",
          "complex",
          "complex",
          "complex",
          "complex",
          "complex",
          "complex",
          "complex",
          "complex",
          "complex",
          "complex",
          "complex",
          "complex",
          "complex",
          "complex",
          "complex",
          "complex",
          "complex",
          "complex",
          "complex",
          "complex",
          "complex",
          "complex",
          "complex",
          "complex",
          "complex",
          "complex",
          "complex",
          "complex",
          "complex",
          "complex",
          "complex",
          "complex",
          "complex",
          "complex",
          "complex",
          "complex",
          "complex",
          "complex",
          "complex",
          "complex",
          "complex",
          "complex",
          "complex",
          "complex",
          "complex",
          "complex",
          "complex",
          "complex",
          "complex",
          "complex",
          "complex",
          "complex",
          "complex",
          "complex",
          "complex",
          "complex",
          "complex",
          "complex",
          "complex",
          "complex",
          "complex",
          "complex",
          "complex",
          "complex",
          "complex",
          "complex",
          "complex",
          "complex",
          "complex",
          "complex",
          "complex",
          "complex",
          "complex",
          "complex",
          "complex",
          "complex",
          "complex",
          "complex",
          "complex",
          "complex",
          "complex",
          "complex",
          "complex",
          "complex",
          "complex",
          "complex",
          "complex",
          "complex",
          "complex",
          "complex",
          "complex",
          "complex",
          "complex",
          "complex",
          "complex",
          "complex",
          "simple",
          "simple",
          "simple",
          "simple",
          "simple",
          "simple",
          "simple",
          "simple",
          "simple",
          "simple",
          "simple",
          "simple",
          "simple",
          "simple",
          "simple",
          "simple",
          "simple",
          "simple",
          "simple",
          "simple",
          "simple",
          "simple",
          "simple",
          "simple",
          "simple",
          "simple",
          "simple",
          "simple",
          "simple",
          "simple",
          "simple",
          "simple",
          "simple",
          "simple",
          "simple",
          "simple",
          "simple",
          "simple",
          "simple",
          "simple",
          "simple",
          "simple",
          "simple",
          "simple",
          "simple",
          "simple",
          "simple",
          "simple",
          "simple",
          "simple",
          "simple",
          "simple",
          "simple",
          "simple",
          "simple",
          "simple",
          "simple",
          "simple",
          "simple",
          "simple",
          "simple",
          "simple",
          "simple",
          "simple",
          "simple",
          "simple",
          "simple",
          "simple",
          "simple",
          "simple",
          "simple",
          "simple",
          "simple",
          "simple",
          "simple",
          "simple",
          "simple",
          "simple",
          "simple",
          "simple",
          "simple",
          "simple",
          "simple",
          "simple",
          "simple",
          "simple",
          "simple",
          "simple",
          "simple",
          "simple",
          "simple",
          "simple",
          "simple",
          "simple",
          "simple",
          "simple",
          "simple",
          "simple",
          "simple",
          "simple",
          "simple",
          "simple",
          "simple",
          "simple",
          "simple",
          "simple",
          "simple",
          "simple",
          "simple",
          "simple",
          "simple",
          "simple",
          "simple",
          "simple",
          "simple",
          "simple",
          "simple",
          "simple",
          "simple",
          "simple"
         ],
         "x0": " ",
         "xaxis": "x",
         "y": {
          "bdata": "ZGRkZGRkZGRkZGRkZGRkZGRkZGRkV2RfZGRkZGRkZGRkZGRkZGRkZGRkZGRkZGRkZE1kZGRkZGRkZGRkZGRkZGRkZGRkZGRkZGRkZGRkZGRkZGRkZGRkZGRkZGRkZGRkZGRkZGRkZGRkZGRkZGRkZGRkZGRkZGRZZGRkZGRkZGRkZGRkZGRkZGRkZGRkZGRkZGRkZGRkZGRkZGRkZGRkZGRkZGRkZGRkZGRkZGRkZGRkZGRkZGRkZGRkZGRkZGRkZGRkZGRkZGRkZGRkZGRkZGRkZGRkZGRkZGRkZGRkZGRkZGRkZGRkZGRbZFhbW19R",
          "dtype": "i1"
         },
         "y0": " ",
         "yaxis": "y"
        }
       ],
       "layout": {
        "boxmode": "group",
        "legend": {
         "tracegroupgap": 0
        },
        "margin": {
         "t": 60
        },
        "template": {
         "data": {
          "bar": [
           {
            "error_x": {
             "color": "#2a3f5f"
            },
            "error_y": {
             "color": "#2a3f5f"
            },
            "marker": {
             "line": {
              "color": "#E5ECF6",
              "width": 0.5
             },
             "pattern": {
              "fillmode": "overlay",
              "size": 10,
              "solidity": 0.2
             }
            },
            "type": "bar"
           }
          ],
          "barpolar": [
           {
            "marker": {
             "line": {
              "color": "#E5ECF6",
              "width": 0.5
             },
             "pattern": {
              "fillmode": "overlay",
              "size": 10,
              "solidity": 0.2
             }
            },
            "type": "barpolar"
           }
          ],
          "carpet": [
           {
            "aaxis": {
             "endlinecolor": "#2a3f5f",
             "gridcolor": "white",
             "linecolor": "white",
             "minorgridcolor": "white",
             "startlinecolor": "#2a3f5f"
            },
            "baxis": {
             "endlinecolor": "#2a3f5f",
             "gridcolor": "white",
             "linecolor": "white",
             "minorgridcolor": "white",
             "startlinecolor": "#2a3f5f"
            },
            "type": "carpet"
           }
          ],
          "choropleth": [
           {
            "colorbar": {
             "outlinewidth": 0,
             "ticks": ""
            },
            "type": "choropleth"
           }
          ],
          "contour": [
           {
            "colorbar": {
             "outlinewidth": 0,
             "ticks": ""
            },
            "colorscale": [
             [
              0,
              "#0d0887"
             ],
             [
              0.1111111111111111,
              "#46039f"
             ],
             [
              0.2222222222222222,
              "#7201a8"
             ],
             [
              0.3333333333333333,
              "#9c179e"
             ],
             [
              0.4444444444444444,
              "#bd3786"
             ],
             [
              0.5555555555555556,
              "#d8576b"
             ],
             [
              0.6666666666666666,
              "#ed7953"
             ],
             [
              0.7777777777777778,
              "#fb9f3a"
             ],
             [
              0.8888888888888888,
              "#fdca26"
             ],
             [
              1,
              "#f0f921"
             ]
            ],
            "type": "contour"
           }
          ],
          "contourcarpet": [
           {
            "colorbar": {
             "outlinewidth": 0,
             "ticks": ""
            },
            "type": "contourcarpet"
           }
          ],
          "heatmap": [
           {
            "colorbar": {
             "outlinewidth": 0,
             "ticks": ""
            },
            "colorscale": [
             [
              0,
              "#0d0887"
             ],
             [
              0.1111111111111111,
              "#46039f"
             ],
             [
              0.2222222222222222,
              "#7201a8"
             ],
             [
              0.3333333333333333,
              "#9c179e"
             ],
             [
              0.4444444444444444,
              "#bd3786"
             ],
             [
              0.5555555555555556,
              "#d8576b"
             ],
             [
              0.6666666666666666,
              "#ed7953"
             ],
             [
              0.7777777777777778,
              "#fb9f3a"
             ],
             [
              0.8888888888888888,
              "#fdca26"
             ],
             [
              1,
              "#f0f921"
             ]
            ],
            "type": "heatmap"
           }
          ],
          "histogram": [
           {
            "marker": {
             "pattern": {
              "fillmode": "overlay",
              "size": 10,
              "solidity": 0.2
             }
            },
            "type": "histogram"
           }
          ],
          "histogram2d": [
           {
            "colorbar": {
             "outlinewidth": 0,
             "ticks": ""
            },
            "colorscale": [
             [
              0,
              "#0d0887"
             ],
             [
              0.1111111111111111,
              "#46039f"
             ],
             [
              0.2222222222222222,
              "#7201a8"
             ],
             [
              0.3333333333333333,
              "#9c179e"
             ],
             [
              0.4444444444444444,
              "#bd3786"
             ],
             [
              0.5555555555555556,
              "#d8576b"
             ],
             [
              0.6666666666666666,
              "#ed7953"
             ],
             [
              0.7777777777777778,
              "#fb9f3a"
             ],
             [
              0.8888888888888888,
              "#fdca26"
             ],
             [
              1,
              "#f0f921"
             ]
            ],
            "type": "histogram2d"
           }
          ],
          "histogram2dcontour": [
           {
            "colorbar": {
             "outlinewidth": 0,
             "ticks": ""
            },
            "colorscale": [
             [
              0,
              "#0d0887"
             ],
             [
              0.1111111111111111,
              "#46039f"
             ],
             [
              0.2222222222222222,
              "#7201a8"
             ],
             [
              0.3333333333333333,
              "#9c179e"
             ],
             [
              0.4444444444444444,
              "#bd3786"
             ],
             [
              0.5555555555555556,
              "#d8576b"
             ],
             [
              0.6666666666666666,
              "#ed7953"
             ],
             [
              0.7777777777777778,
              "#fb9f3a"
             ],
             [
              0.8888888888888888,
              "#fdca26"
             ],
             [
              1,
              "#f0f921"
             ]
            ],
            "type": "histogram2dcontour"
           }
          ],
          "mesh3d": [
           {
            "colorbar": {
             "outlinewidth": 0,
             "ticks": ""
            },
            "type": "mesh3d"
           }
          ],
          "parcoords": [
           {
            "line": {
             "colorbar": {
              "outlinewidth": 0,
              "ticks": ""
             }
            },
            "type": "parcoords"
           }
          ],
          "pie": [
           {
            "automargin": true,
            "type": "pie"
           }
          ],
          "scatter": [
           {
            "fillpattern": {
             "fillmode": "overlay",
             "size": 10,
             "solidity": 0.2
            },
            "type": "scatter"
           }
          ],
          "scatter3d": [
           {
            "line": {
             "colorbar": {
              "outlinewidth": 0,
              "ticks": ""
             }
            },
            "marker": {
             "colorbar": {
              "outlinewidth": 0,
              "ticks": ""
             }
            },
            "type": "scatter3d"
           }
          ],
          "scattercarpet": [
           {
            "marker": {
             "colorbar": {
              "outlinewidth": 0,
              "ticks": ""
             }
            },
            "type": "scattercarpet"
           }
          ],
          "scattergeo": [
           {
            "marker": {
             "colorbar": {
              "outlinewidth": 0,
              "ticks": ""
             }
            },
            "type": "scattergeo"
           }
          ],
          "scattergl": [
           {
            "marker": {
             "colorbar": {
              "outlinewidth": 0,
              "ticks": ""
             }
            },
            "type": "scattergl"
           }
          ],
          "scattermap": [
           {
            "marker": {
             "colorbar": {
              "outlinewidth": 0,
              "ticks": ""
             }
            },
            "type": "scattermap"
           }
          ],
          "scattermapbox": [
           {
            "marker": {
             "colorbar": {
              "outlinewidth": 0,
              "ticks": ""
             }
            },
            "type": "scattermapbox"
           }
          ],
          "scatterpolar": [
           {
            "marker": {
             "colorbar": {
              "outlinewidth": 0,
              "ticks": ""
             }
            },
            "type": "scatterpolar"
           }
          ],
          "scatterpolargl": [
           {
            "marker": {
             "colorbar": {
              "outlinewidth": 0,
              "ticks": ""
             }
            },
            "type": "scatterpolargl"
           }
          ],
          "scatterternary": [
           {
            "marker": {
             "colorbar": {
              "outlinewidth": 0,
              "ticks": ""
             }
            },
            "type": "scatterternary"
           }
          ],
          "surface": [
           {
            "colorbar": {
             "outlinewidth": 0,
             "ticks": ""
            },
            "colorscale": [
             [
              0,
              "#0d0887"
             ],
             [
              0.1111111111111111,
              "#46039f"
             ],
             [
              0.2222222222222222,
              "#7201a8"
             ],
             [
              0.3333333333333333,
              "#9c179e"
             ],
             [
              0.4444444444444444,
              "#bd3786"
             ],
             [
              0.5555555555555556,
              "#d8576b"
             ],
             [
              0.6666666666666666,
              "#ed7953"
             ],
             [
              0.7777777777777778,
              "#fb9f3a"
             ],
             [
              0.8888888888888888,
              "#fdca26"
             ],
             [
              1,
              "#f0f921"
             ]
            ],
            "type": "surface"
           }
          ],
          "table": [
           {
            "cells": {
             "fill": {
              "color": "#EBF0F8"
             },
             "line": {
              "color": "white"
             }
            },
            "header": {
             "fill": {
              "color": "#C8D4E3"
             },
             "line": {
              "color": "white"
             }
            },
            "type": "table"
           }
          ]
         },
         "layout": {
          "annotationdefaults": {
           "arrowcolor": "#2a3f5f",
           "arrowhead": 0,
           "arrowwidth": 1
          },
          "autotypenumbers": "strict",
          "coloraxis": {
           "colorbar": {
            "outlinewidth": 0,
            "ticks": ""
           }
          },
          "colorscale": {
           "diverging": [
            [
             0,
             "#8e0152"
            ],
            [
             0.1,
             "#c51b7d"
            ],
            [
             0.2,
             "#de77ae"
            ],
            [
             0.3,
             "#f1b6da"
            ],
            [
             0.4,
             "#fde0ef"
            ],
            [
             0.5,
             "#f7f7f7"
            ],
            [
             0.6,
             "#e6f5d0"
            ],
            [
             0.7,
             "#b8e186"
            ],
            [
             0.8,
             "#7fbc41"
            ],
            [
             0.9,
             "#4d9221"
            ],
            [
             1,
             "#276419"
            ]
           ],
           "sequential": [
            [
             0,
             "#0d0887"
            ],
            [
             0.1111111111111111,
             "#46039f"
            ],
            [
             0.2222222222222222,
             "#7201a8"
            ],
            [
             0.3333333333333333,
             "#9c179e"
            ],
            [
             0.4444444444444444,
             "#bd3786"
            ],
            [
             0.5555555555555556,
             "#d8576b"
            ],
            [
             0.6666666666666666,
             "#ed7953"
            ],
            [
             0.7777777777777778,
             "#fb9f3a"
            ],
            [
             0.8888888888888888,
             "#fdca26"
            ],
            [
             1,
             "#f0f921"
            ]
           ],
           "sequentialminus": [
            [
             0,
             "#0d0887"
            ],
            [
             0.1111111111111111,
             "#46039f"
            ],
            [
             0.2222222222222222,
             "#7201a8"
            ],
            [
             0.3333333333333333,
             "#9c179e"
            ],
            [
             0.4444444444444444,
             "#bd3786"
            ],
            [
             0.5555555555555556,
             "#d8576b"
            ],
            [
             0.6666666666666666,
             "#ed7953"
            ],
            [
             0.7777777777777778,
             "#fb9f3a"
            ],
            [
             0.8888888888888888,
             "#fdca26"
            ],
            [
             1,
             "#f0f921"
            ]
           ]
          },
          "colorway": [
           "#636efa",
           "#EF553B",
           "#00cc96",
           "#ab63fa",
           "#FFA15A",
           "#19d3f3",
           "#FF6692",
           "#B6E880",
           "#FF97FF",
           "#FECB52"
          ],
          "font": {
           "color": "#2a3f5f"
          },
          "geo": {
           "bgcolor": "white",
           "lakecolor": "white",
           "landcolor": "#E5ECF6",
           "showlakes": true,
           "showland": true,
           "subunitcolor": "white"
          },
          "hoverlabel": {
           "align": "left"
          },
          "hovermode": "closest",
          "mapbox": {
           "style": "light"
          },
          "paper_bgcolor": "white",
          "plot_bgcolor": "#E5ECF6",
          "polar": {
           "angularaxis": {
            "gridcolor": "white",
            "linecolor": "white",
            "ticks": ""
           },
           "bgcolor": "#E5ECF6",
           "radialaxis": {
            "gridcolor": "white",
            "linecolor": "white",
            "ticks": ""
           }
          },
          "scene": {
           "xaxis": {
            "backgroundcolor": "#E5ECF6",
            "gridcolor": "white",
            "gridwidth": 2,
            "linecolor": "white",
            "showbackground": true,
            "ticks": "",
            "zerolinecolor": "white"
           },
           "yaxis": {
            "backgroundcolor": "#E5ECF6",
            "gridcolor": "white",
            "gridwidth": 2,
            "linecolor": "white",
            "showbackground": true,
            "ticks": "",
            "zerolinecolor": "white"
           },
           "zaxis": {
            "backgroundcolor": "#E5ECF6",
            "gridcolor": "white",
            "gridwidth": 2,
            "linecolor": "white",
            "showbackground": true,
            "ticks": "",
            "zerolinecolor": "white"
           }
          },
          "shapedefaults": {
           "line": {
            "color": "#2a3f5f"
           }
          },
          "ternary": {
           "aaxis": {
            "gridcolor": "white",
            "linecolor": "white",
            "ticks": ""
           },
           "baxis": {
            "gridcolor": "white",
            "linecolor": "white",
            "ticks": ""
           },
           "bgcolor": "#E5ECF6",
           "caxis": {
            "gridcolor": "white",
            "linecolor": "white",
            "ticks": ""
           }
          },
          "title": {
           "x": 0.05
          },
          "xaxis": {
           "automargin": true,
           "gridcolor": "white",
           "linecolor": "white",
           "ticks": "",
           "title": {
            "standoff": 15
           },
           "zerolinecolor": "white",
           "zerolinewidth": 2
          },
          "yaxis": {
           "automargin": true,
           "gridcolor": "white",
           "linecolor": "white",
           "ticks": "",
           "title": {
            "standoff": 15
           },
           "zerolinecolor": "white",
           "zerolinewidth": 2
          }
         }
        },
        "xaxis": {
         "anchor": "y",
         "domain": [
          0,
          1
         ],
         "title": {
          "text": "rubric"
         }
        },
        "yaxis": {
         "anchor": "x",
         "domain": [
          0,
          1
         ],
         "title": {
          "text": "score"
         }
        }
       }
      }
     },
     "metadata": {},
     "output_type": "display_data"
    }
   ],
   "source": [
    "fig = px.box(df[(df[\"type\"] == \"code\") & (df[\"name\"] == \"complex.text\")], x = \"rubric\", y = \"score\")\n",
    "fig.show()"
   ]
  },
  {
   "cell_type": "code",
   "execution_count": 134,
   "id": "46cae8da",
   "metadata": {},
   "outputs": [
    {
     "data": {
      "application/vnd.plotly.v1+json": {
       "config": {
        "plotlyServerURL": "https://plot.ly"
       },
       "data": [
        {
         "alignmentgroup": "True",
         "hovertemplate": "rubric=%{x}<br>score=%{y}<extra></extra>",
         "legendgroup": "",
         "marker": {
          "color": "#636efa"
         },
         "name": "",
         "notched": false,
         "offsetgroup": "",
         "orientation": "v",
         "showlegend": false,
         "type": "box",
         "x": [
          "complex",
          "complex",
          "complex",
          "complex",
          "complex",
          "complex",
          "complex",
          "complex",
          "complex",
          "complex",
          "complex",
          "complex",
          "complex",
          "complex",
          "complex",
          "complex",
          "complex",
          "complex",
          "complex",
          "complex",
          "complex",
          "complex",
          "complex",
          "complex",
          "complex",
          "complex",
          "complex",
          "complex",
          "complex",
          "complex",
          "complex",
          "complex",
          "complex",
          "complex",
          "complex",
          "complex",
          "complex",
          "complex",
          "complex",
          "complex",
          "complex",
          "complex",
          "complex",
          "complex",
          "complex",
          "complex",
          "complex",
          "complex",
          "complex",
          "complex",
          "complex",
          "complex",
          "complex",
          "complex",
          "complex",
          "complex",
          "complex",
          "complex",
          "complex",
          "complex",
          "complex",
          "complex",
          "complex",
          "complex",
          "complex",
          "complex",
          "complex",
          "complex",
          "complex",
          "complex",
          "complex",
          "complex",
          "complex",
          "complex",
          "complex",
          "complex",
          "complex",
          "complex",
          "complex",
          "complex",
          "complex",
          "complex",
          "complex",
          "complex",
          "complex",
          "complex",
          "complex",
          "complex",
          "complex",
          "complex",
          "complex",
          "complex",
          "complex",
          "complex",
          "complex",
          "complex",
          "complex",
          "complex",
          "complex",
          "complex",
          "complex",
          "complex",
          "complex",
          "complex",
          "complex",
          "complex",
          "complex",
          "complex",
          "complex",
          "complex",
          "complex",
          "complex",
          "complex",
          "complex",
          "complex",
          "complex",
          "complex",
          "complex",
          "complex",
          "complex",
          "simple",
          "simple",
          "simple",
          "simple",
          "simple",
          "simple",
          "simple",
          "simple",
          "simple",
          "simple",
          "simple",
          "simple",
          "simple",
          "simple",
          "simple",
          "simple",
          "simple",
          "simple",
          "simple",
          "simple",
          "simple",
          "simple",
          "simple",
          "simple",
          "simple",
          "simple",
          "simple",
          "simple",
          "simple",
          "simple",
          "simple",
          "simple",
          "simple",
          "simple",
          "simple",
          "simple",
          "simple",
          "simple",
          "simple",
          "simple",
          "simple",
          "simple",
          "simple",
          "simple",
          "simple",
          "simple",
          "simple",
          "simple",
          "simple",
          "simple",
          "simple",
          "simple",
          "simple",
          "simple",
          "simple",
          "simple",
          "simple",
          "simple",
          "simple",
          "simple",
          "simple",
          "simple",
          "simple",
          "simple",
          "simple",
          "simple",
          "simple",
          "simple",
          "simple",
          "simple",
          "simple",
          "simple",
          "simple",
          "simple",
          "simple",
          "simple",
          "simple",
          "simple",
          "simple",
          "simple",
          "simple",
          "simple",
          "simple",
          "simple",
          "simple",
          "simple",
          "simple",
          "simple",
          "simple",
          "simple",
          "simple",
          "simple",
          "simple",
          "simple",
          "simple",
          "simple",
          "simple",
          "simple",
          "simple",
          "simple",
          "simple",
          "simple",
          "simple",
          "simple",
          "simple",
          "simple",
          "simple",
          "simple",
          "simple",
          "simple",
          "simple",
          "simple",
          "simple",
          "simple",
          "simple",
          "simple",
          "simple",
          "simple",
          "simple",
          "simple",
          "complex",
          "complex",
          "complex",
          "complex",
          "complex",
          "complex",
          "complex",
          "complex",
          "complex",
          "complex",
          "complex",
          "complex",
          "complex",
          "complex",
          "complex",
          "complex",
          "complex",
          "complex",
          "complex",
          "complex",
          "complex",
          "complex",
          "complex",
          "complex",
          "complex",
          "complex",
          "complex",
          "complex",
          "complex",
          "complex",
          "complex",
          "complex",
          "complex",
          "complex",
          "complex",
          "complex",
          "complex",
          "complex",
          "complex",
          "complex",
          "complex",
          "complex",
          "complex",
          "complex",
          "complex",
          "complex",
          "complex",
          "complex",
          "complex",
          "complex",
          "complex",
          "complex",
          "complex",
          "complex",
          "complex",
          "complex",
          "complex",
          "complex",
          "complex",
          "complex",
          "complex",
          "complex",
          "complex",
          "complex",
          "complex",
          "complex",
          "complex",
          "complex",
          "complex",
          "complex",
          "complex",
          "complex",
          "complex",
          "complex",
          "complex",
          "complex",
          "complex",
          "complex",
          "complex",
          "complex",
          "complex",
          "complex",
          "complex",
          "complex",
          "complex",
          "complex",
          "complex",
          "complex",
          "complex",
          "complex",
          "complex",
          "complex",
          "complex",
          "complex",
          "complex",
          "complex",
          "complex",
          "complex",
          "complex",
          "complex",
          "complex",
          "complex",
          "complex",
          "complex",
          "complex",
          "complex",
          "complex",
          "complex",
          "complex",
          "complex",
          "complex",
          "complex",
          "complex",
          "complex",
          "complex",
          "complex",
          "complex",
          "complex",
          "complex",
          "complex",
          "complex",
          "complex",
          "complex",
          "complex",
          "complex",
          "complex",
          "complex",
          "complex",
          "complex",
          "complex",
          "complex",
          "complex",
          "complex",
          "complex",
          "complex",
          "complex",
          "complex",
          "complex",
          "complex",
          "complex",
          "complex",
          "complex",
          "complex",
          "complex",
          "complex",
          "complex",
          "complex",
          "complex",
          "complex",
          "complex",
          "complex",
          "complex",
          "complex",
          "complex",
          "complex",
          "complex",
          "complex",
          "complex",
          "complex",
          "complex",
          "complex",
          "complex",
          "complex",
          "complex",
          "complex",
          "complex",
          "complex",
          "complex",
          "complex",
          "complex",
          "complex",
          "complex",
          "complex",
          "complex",
          "complex",
          "complex",
          "complex",
          "complex",
          "complex",
          "complex",
          "complex",
          "complex",
          "complex",
          "complex",
          "complex",
          "complex",
          "complex",
          "complex",
          "complex",
          "complex",
          "complex",
          "complex",
          "complex",
          "complex",
          "complex",
          "complex",
          "complex",
          "complex",
          "complex",
          "complex",
          "complex",
          "complex",
          "complex",
          "complex",
          "complex",
          "complex",
          "complex",
          "complex",
          "complex",
          "complex",
          "complex",
          "complex",
          "complex",
          "complex",
          "complex",
          "complex",
          "complex",
          "complex",
          "complex",
          "complex",
          "complex",
          "complex",
          "complex",
          "complex",
          "complex",
          "complex",
          "complex",
          "complex",
          "complex",
          "complex",
          "complex",
          "complex",
          "complex",
          "complex",
          "complex",
          "complex",
          "complex",
          "complex",
          "complex",
          "complex"
         ],
         "x0": " ",
         "xaxis": "x",
         "y": {
          "bdata": "U1BQUVZWVV5WVVVRVVVVU1NXU1NVVFVQU1hSVlJVYVNFVFFTTFFVUFBTU1NSV1NWVlVQU1FOR1JWVlVGU1VSU1VVVE9VU1VUQVRTW1BTTlZSVFFXVWFRU0VVUFdRUFVWUFFVUFNSVUBMVk5QU0BQUVNXUlNTT1NFVVVVVVVVVVVVVVVVVVVVVVVVVVVVVVVVVVVVVVVVVVVVVVVVVVVVVVVVVVVVVVVVVVVVVVVVVVVVVVVVVVVVVVVVVVVVVVVVVVVVVVVVVVVVVVVVVVVVVVVVVVVVVVVVVVVVS1VVVVVVVVVVVVVVVU5VVVVVVVVVZF4yXmRkPGQyPjAyMjJkRWRQHh5bMlpkM0wwZEUwUUZNMA8zME1QPDJUHmRSMlAzMyhPPFJkTmQ8XjIfXlphXlBkMFJhNWReTD1aNzJQMy8vTE4wOTBSTk5OTjAxLzNbTjQwM0wyXig5UC9AHypCMzI8KDxMRDhMS0xKTExLTEVKSllMTlNLUEpKSktMT0tKTUpESllITFZMU0JMTlBMNktMTUtMSkhNTTtUTUhMNk8xOTlTQUFFTzFKSEE0TUlLTEhFNjtLRFk2TUtKOUsmS0AmICoyLTQkJywsLywnKy4nMjQpJCwnJyknNDQnJyYs",
          "dtype": "i1"
         },
         "y0": " ",
         "yaxis": "y"
        }
       ],
       "layout": {
        "boxmode": "group",
        "legend": {
         "tracegroupgap": 0
        },
        "margin": {
         "t": 60
        },
        "template": {
         "data": {
          "bar": [
           {
            "error_x": {
             "color": "#2a3f5f"
            },
            "error_y": {
             "color": "#2a3f5f"
            },
            "marker": {
             "line": {
              "color": "#E5ECF6",
              "width": 0.5
             },
             "pattern": {
              "fillmode": "overlay",
              "size": 10,
              "solidity": 0.2
             }
            },
            "type": "bar"
           }
          ],
          "barpolar": [
           {
            "marker": {
             "line": {
              "color": "#E5ECF6",
              "width": 0.5
             },
             "pattern": {
              "fillmode": "overlay",
              "size": 10,
              "solidity": 0.2
             }
            },
            "type": "barpolar"
           }
          ],
          "carpet": [
           {
            "aaxis": {
             "endlinecolor": "#2a3f5f",
             "gridcolor": "white",
             "linecolor": "white",
             "minorgridcolor": "white",
             "startlinecolor": "#2a3f5f"
            },
            "baxis": {
             "endlinecolor": "#2a3f5f",
             "gridcolor": "white",
             "linecolor": "white",
             "minorgridcolor": "white",
             "startlinecolor": "#2a3f5f"
            },
            "type": "carpet"
           }
          ],
          "choropleth": [
           {
            "colorbar": {
             "outlinewidth": 0,
             "ticks": ""
            },
            "type": "choropleth"
           }
          ],
          "contour": [
           {
            "colorbar": {
             "outlinewidth": 0,
             "ticks": ""
            },
            "colorscale": [
             [
              0,
              "#0d0887"
             ],
             [
              0.1111111111111111,
              "#46039f"
             ],
             [
              0.2222222222222222,
              "#7201a8"
             ],
             [
              0.3333333333333333,
              "#9c179e"
             ],
             [
              0.4444444444444444,
              "#bd3786"
             ],
             [
              0.5555555555555556,
              "#d8576b"
             ],
             [
              0.6666666666666666,
              "#ed7953"
             ],
             [
              0.7777777777777778,
              "#fb9f3a"
             ],
             [
              0.8888888888888888,
              "#fdca26"
             ],
             [
              1,
              "#f0f921"
             ]
            ],
            "type": "contour"
           }
          ],
          "contourcarpet": [
           {
            "colorbar": {
             "outlinewidth": 0,
             "ticks": ""
            },
            "type": "contourcarpet"
           }
          ],
          "heatmap": [
           {
            "colorbar": {
             "outlinewidth": 0,
             "ticks": ""
            },
            "colorscale": [
             [
              0,
              "#0d0887"
             ],
             [
              0.1111111111111111,
              "#46039f"
             ],
             [
              0.2222222222222222,
              "#7201a8"
             ],
             [
              0.3333333333333333,
              "#9c179e"
             ],
             [
              0.4444444444444444,
              "#bd3786"
             ],
             [
              0.5555555555555556,
              "#d8576b"
             ],
             [
              0.6666666666666666,
              "#ed7953"
             ],
             [
              0.7777777777777778,
              "#fb9f3a"
             ],
             [
              0.8888888888888888,
              "#fdca26"
             ],
             [
              1,
              "#f0f921"
             ]
            ],
            "type": "heatmap"
           }
          ],
          "histogram": [
           {
            "marker": {
             "pattern": {
              "fillmode": "overlay",
              "size": 10,
              "solidity": 0.2
             }
            },
            "type": "histogram"
           }
          ],
          "histogram2d": [
           {
            "colorbar": {
             "outlinewidth": 0,
             "ticks": ""
            },
            "colorscale": [
             [
              0,
              "#0d0887"
             ],
             [
              0.1111111111111111,
              "#46039f"
             ],
             [
              0.2222222222222222,
              "#7201a8"
             ],
             [
              0.3333333333333333,
              "#9c179e"
             ],
             [
              0.4444444444444444,
              "#bd3786"
             ],
             [
              0.5555555555555556,
              "#d8576b"
             ],
             [
              0.6666666666666666,
              "#ed7953"
             ],
             [
              0.7777777777777778,
              "#fb9f3a"
             ],
             [
              0.8888888888888888,
              "#fdca26"
             ],
             [
              1,
              "#f0f921"
             ]
            ],
            "type": "histogram2d"
           }
          ],
          "histogram2dcontour": [
           {
            "colorbar": {
             "outlinewidth": 0,
             "ticks": ""
            },
            "colorscale": [
             [
              0,
              "#0d0887"
             ],
             [
              0.1111111111111111,
              "#46039f"
             ],
             [
              0.2222222222222222,
              "#7201a8"
             ],
             [
              0.3333333333333333,
              "#9c179e"
             ],
             [
              0.4444444444444444,
              "#bd3786"
             ],
             [
              0.5555555555555556,
              "#d8576b"
             ],
             [
              0.6666666666666666,
              "#ed7953"
             ],
             [
              0.7777777777777778,
              "#fb9f3a"
             ],
             [
              0.8888888888888888,
              "#fdca26"
             ],
             [
              1,
              "#f0f921"
             ]
            ],
            "type": "histogram2dcontour"
           }
          ],
          "mesh3d": [
           {
            "colorbar": {
             "outlinewidth": 0,
             "ticks": ""
            },
            "type": "mesh3d"
           }
          ],
          "parcoords": [
           {
            "line": {
             "colorbar": {
              "outlinewidth": 0,
              "ticks": ""
             }
            },
            "type": "parcoords"
           }
          ],
          "pie": [
           {
            "automargin": true,
            "type": "pie"
           }
          ],
          "scatter": [
           {
            "fillpattern": {
             "fillmode": "overlay",
             "size": 10,
             "solidity": 0.2
            },
            "type": "scatter"
           }
          ],
          "scatter3d": [
           {
            "line": {
             "colorbar": {
              "outlinewidth": 0,
              "ticks": ""
             }
            },
            "marker": {
             "colorbar": {
              "outlinewidth": 0,
              "ticks": ""
             }
            },
            "type": "scatter3d"
           }
          ],
          "scattercarpet": [
           {
            "marker": {
             "colorbar": {
              "outlinewidth": 0,
              "ticks": ""
             }
            },
            "type": "scattercarpet"
           }
          ],
          "scattergeo": [
           {
            "marker": {
             "colorbar": {
              "outlinewidth": 0,
              "ticks": ""
             }
            },
            "type": "scattergeo"
           }
          ],
          "scattergl": [
           {
            "marker": {
             "colorbar": {
              "outlinewidth": 0,
              "ticks": ""
             }
            },
            "type": "scattergl"
           }
          ],
          "scattermap": [
           {
            "marker": {
             "colorbar": {
              "outlinewidth": 0,
              "ticks": ""
             }
            },
            "type": "scattermap"
           }
          ],
          "scattermapbox": [
           {
            "marker": {
             "colorbar": {
              "outlinewidth": 0,
              "ticks": ""
             }
            },
            "type": "scattermapbox"
           }
          ],
          "scatterpolar": [
           {
            "marker": {
             "colorbar": {
              "outlinewidth": 0,
              "ticks": ""
             }
            },
            "type": "scatterpolar"
           }
          ],
          "scatterpolargl": [
           {
            "marker": {
             "colorbar": {
              "outlinewidth": 0,
              "ticks": ""
             }
            },
            "type": "scatterpolargl"
           }
          ],
          "scatterternary": [
           {
            "marker": {
             "colorbar": {
              "outlinewidth": 0,
              "ticks": ""
             }
            },
            "type": "scatterternary"
           }
          ],
          "surface": [
           {
            "colorbar": {
             "outlinewidth": 0,
             "ticks": ""
            },
            "colorscale": [
             [
              0,
              "#0d0887"
             ],
             [
              0.1111111111111111,
              "#46039f"
             ],
             [
              0.2222222222222222,
              "#7201a8"
             ],
             [
              0.3333333333333333,
              "#9c179e"
             ],
             [
              0.4444444444444444,
              "#bd3786"
             ],
             [
              0.5555555555555556,
              "#d8576b"
             ],
             [
              0.6666666666666666,
              "#ed7953"
             ],
             [
              0.7777777777777778,
              "#fb9f3a"
             ],
             [
              0.8888888888888888,
              "#fdca26"
             ],
             [
              1,
              "#f0f921"
             ]
            ],
            "type": "surface"
           }
          ],
          "table": [
           {
            "cells": {
             "fill": {
              "color": "#EBF0F8"
             },
             "line": {
              "color": "white"
             }
            },
            "header": {
             "fill": {
              "color": "#C8D4E3"
             },
             "line": {
              "color": "white"
             }
            },
            "type": "table"
           }
          ]
         },
         "layout": {
          "annotationdefaults": {
           "arrowcolor": "#2a3f5f",
           "arrowhead": 0,
           "arrowwidth": 1
          },
          "autotypenumbers": "strict",
          "coloraxis": {
           "colorbar": {
            "outlinewidth": 0,
            "ticks": ""
           }
          },
          "colorscale": {
           "diverging": [
            [
             0,
             "#8e0152"
            ],
            [
             0.1,
             "#c51b7d"
            ],
            [
             0.2,
             "#de77ae"
            ],
            [
             0.3,
             "#f1b6da"
            ],
            [
             0.4,
             "#fde0ef"
            ],
            [
             0.5,
             "#f7f7f7"
            ],
            [
             0.6,
             "#e6f5d0"
            ],
            [
             0.7,
             "#b8e186"
            ],
            [
             0.8,
             "#7fbc41"
            ],
            [
             0.9,
             "#4d9221"
            ],
            [
             1,
             "#276419"
            ]
           ],
           "sequential": [
            [
             0,
             "#0d0887"
            ],
            [
             0.1111111111111111,
             "#46039f"
            ],
            [
             0.2222222222222222,
             "#7201a8"
            ],
            [
             0.3333333333333333,
             "#9c179e"
            ],
            [
             0.4444444444444444,
             "#bd3786"
            ],
            [
             0.5555555555555556,
             "#d8576b"
            ],
            [
             0.6666666666666666,
             "#ed7953"
            ],
            [
             0.7777777777777778,
             "#fb9f3a"
            ],
            [
             0.8888888888888888,
             "#fdca26"
            ],
            [
             1,
             "#f0f921"
            ]
           ],
           "sequentialminus": [
            [
             0,
             "#0d0887"
            ],
            [
             0.1111111111111111,
             "#46039f"
            ],
            [
             0.2222222222222222,
             "#7201a8"
            ],
            [
             0.3333333333333333,
             "#9c179e"
            ],
            [
             0.4444444444444444,
             "#bd3786"
            ],
            [
             0.5555555555555556,
             "#d8576b"
            ],
            [
             0.6666666666666666,
             "#ed7953"
            ],
            [
             0.7777777777777778,
             "#fb9f3a"
            ],
            [
             0.8888888888888888,
             "#fdca26"
            ],
            [
             1,
             "#f0f921"
            ]
           ]
          },
          "colorway": [
           "#636efa",
           "#EF553B",
           "#00cc96",
           "#ab63fa",
           "#FFA15A",
           "#19d3f3",
           "#FF6692",
           "#B6E880",
           "#FF97FF",
           "#FECB52"
          ],
          "font": {
           "color": "#2a3f5f"
          },
          "geo": {
           "bgcolor": "white",
           "lakecolor": "white",
           "landcolor": "#E5ECF6",
           "showlakes": true,
           "showland": true,
           "subunitcolor": "white"
          },
          "hoverlabel": {
           "align": "left"
          },
          "hovermode": "closest",
          "mapbox": {
           "style": "light"
          },
          "paper_bgcolor": "white",
          "plot_bgcolor": "#E5ECF6",
          "polar": {
           "angularaxis": {
            "gridcolor": "white",
            "linecolor": "white",
            "ticks": ""
           },
           "bgcolor": "#E5ECF6",
           "radialaxis": {
            "gridcolor": "white",
            "linecolor": "white",
            "ticks": ""
           }
          },
          "scene": {
           "xaxis": {
            "backgroundcolor": "#E5ECF6",
            "gridcolor": "white",
            "gridwidth": 2,
            "linecolor": "white",
            "showbackground": true,
            "ticks": "",
            "zerolinecolor": "white"
           },
           "yaxis": {
            "backgroundcolor": "#E5ECF6",
            "gridcolor": "white",
            "gridwidth": 2,
            "linecolor": "white",
            "showbackground": true,
            "ticks": "",
            "zerolinecolor": "white"
           },
           "zaxis": {
            "backgroundcolor": "#E5ECF6",
            "gridcolor": "white",
            "gridwidth": 2,
            "linecolor": "white",
            "showbackground": true,
            "ticks": "",
            "zerolinecolor": "white"
           }
          },
          "shapedefaults": {
           "line": {
            "color": "#2a3f5f"
           }
          },
          "ternary": {
           "aaxis": {
            "gridcolor": "white",
            "linecolor": "white",
            "ticks": ""
           },
           "baxis": {
            "gridcolor": "white",
            "linecolor": "white",
            "ticks": ""
           },
           "bgcolor": "#E5ECF6",
           "caxis": {
            "gridcolor": "white",
            "linecolor": "white",
            "ticks": ""
           }
          },
          "title": {
           "x": 0.05
          },
          "xaxis": {
           "automargin": true,
           "gridcolor": "white",
           "linecolor": "white",
           "ticks": "",
           "title": {
            "standoff": 15
           },
           "zerolinecolor": "white",
           "zerolinewidth": 2
          },
          "yaxis": {
           "automargin": true,
           "gridcolor": "white",
           "linecolor": "white",
           "ticks": "",
           "title": {
            "standoff": 15
           },
           "zerolinecolor": "white",
           "zerolinewidth": 2
          }
         }
        },
        "xaxis": {
         "anchor": "y",
         "domain": [
          0,
          1
         ],
         "title": {
          "text": "rubric"
         }
        },
        "yaxis": {
         "anchor": "x",
         "domain": [
          0,
          1
         ],
         "title": {
          "text": "score"
         }
        }
       }
      }
     },
     "metadata": {},
     "output_type": "display_data"
    }
   ],
   "source": [
    "fig = px.box(df[(df[\"type\"] == \"report\")], x = \"rubric\", y = \"score\")\n",
    "fig.show()"
   ]
  },
  {
   "cell_type": "code",
   "execution_count": 135,
   "id": "03abcdfc",
   "metadata": {},
   "outputs": [],
   "source": [
    "df_code = df[(df[\"type\"] == \"code\") & (df[\"rubric\"] == \"complex\")]"
   ]
  },
  {
   "cell_type": "code",
   "execution_count": 136,
   "id": "ffc95122",
   "metadata": {},
   "outputs": [
    {
     "data": {
      "application/vnd.plotly.v1+json": {
       "config": {
        "plotlyServerURL": "https://plot.ly"
       },
       "data": [
        {
         "alignmentgroup": "True",
         "hovertemplate": "name=%{x}<br>score=%{y}<extra></extra>",
         "legendgroup": "",
         "marker": {
          "color": "#636efa"
         },
         "name": "",
         "notched": false,
         "offsetgroup": "",
         "orientation": "v",
         "showlegend": false,
         "type": "box",
         "x": [
          "normal.text",
          "normal.text",
          "normal.text",
          "normal.text",
          "normal.text",
          "normal.text",
          "normal.text",
          "normal.text",
          "normal.text",
          "normal.text",
          "normal.text",
          "normal.text",
          "normal.text",
          "normal.text",
          "normal.text",
          "normal.text",
          "normal.text",
          "normal.text",
          "normal.text",
          "normal.text",
          "normal.text",
          "normal.text",
          "normal.text",
          "normal.text",
          "normal.text",
          "normal.text",
          "normal.text",
          "normal.text",
          "normal.text",
          "normal.text",
          "normal.text",
          "normal.text",
          "normal.text",
          "normal.text",
          "normal.text",
          "normal.text",
          "normal.text",
          "normal.text",
          "normal.text",
          "normal.text",
          "normal.text",
          "normal.text",
          "normal.text",
          "normal.text",
          "normal.text",
          "normal.text",
          "normal.text",
          "normal.text",
          "normal.text",
          "normal.text",
          "normal.text",
          "normal.text",
          "normal.text",
          "normal.text",
          "normal.text",
          "normal.text",
          "normal.text",
          "normal.text",
          "normal.text",
          "normal.text",
          "normal.text",
          "normal.text",
          "normal.text",
          "normal.text",
          "normal.text",
          "normal.text",
          "normal.text",
          "normal.text",
          "normal.text",
          "normal.text",
          "normal.text",
          "normal.text",
          "normal.text",
          "normal.text",
          "normal.text",
          "normal.text",
          "normal.text",
          "normal.text",
          "normal.text",
          "normal.text",
          "normal.text",
          "normal.text",
          "normal.text",
          "normal.text",
          "normal.text",
          "normal.text",
          "normal.text",
          "normal.text",
          "normal.text",
          "normal.text",
          "normal.text",
          "normal.text",
          "normal.text",
          "normal.text",
          "normal.text",
          "normal.text",
          "normal.text",
          "normal.text",
          "normal.text",
          "normal.text",
          "normal.text",
          "normal.text",
          "normal.text",
          "normal.text",
          "normal.text",
          "normal.text",
          "normal.text",
          "normal.text",
          "normal.text",
          "normal.text",
          "normal.text",
          "normal.text",
          "normal.text",
          "normal.text",
          "normal.text",
          "normal.text",
          "normal.text",
          "normal.text",
          "normal.text",
          "normal.text",
          "normal.images",
          "normal.images",
          "normal.images",
          "normal.images",
          "normal.images",
          "normal.images",
          "normal.images",
          "normal.images",
          "normal.images",
          "normal.images",
          "normal.images",
          "normal.images",
          "normal.images",
          "normal.images",
          "normal.images",
          "normal.images",
          "normal.images",
          "normal.images",
          "normal.images",
          "normal.images",
          "normal.images",
          "normal.images",
          "normal.images",
          "normal.images",
          "normal.images",
          "normal.images",
          "normal.images",
          "normal.images",
          "normal.images",
          "normal.images",
          "normal.images",
          "normal.images",
          "normal.images",
          "normal.images",
          "normal.images",
          "normal.images",
          "normal.images",
          "normal.images",
          "normal.images",
          "normal.images",
          "normal.images",
          "normal.images",
          "normal.images",
          "normal.images",
          "normal.images",
          "normal.images",
          "normal.images",
          "normal.images",
          "normal.images",
          "normal.images",
          "normal.images",
          "normal.images",
          "normal.images",
          "normal.images",
          "normal.images",
          "normal.images",
          "normal.images",
          "normal.images",
          "normal.images",
          "normal.images",
          "normal.images",
          "normal.images",
          "normal.images",
          "normal.images",
          "normal.images",
          "normal.images",
          "normal.images",
          "normal.images",
          "normal.images",
          "normal.images",
          "normal.images",
          "normal.images",
          "normal.images",
          "normal.images",
          "normal.images",
          "normal.images",
          "normal.images",
          "normal.images",
          "normal.images",
          "normal.images",
          "normal.images",
          "normal.images",
          "normal.images",
          "normal.images",
          "normal.images",
          "normal.images",
          "normal.images",
          "normal.images",
          "normal.images",
          "normal.images",
          "normal.images",
          "normal.images",
          "normal.images",
          "normal.images",
          "normal.images",
          "normal.images",
          "normal.images",
          "normal.images",
          "normal.images",
          "normal.images",
          "normal.images",
          "normal.images",
          "normal.images",
          "normal.images",
          "normal.images",
          "normal.images",
          "normal.images",
          "normal.images",
          "normal.images",
          "normal.images",
          "normal.images",
          "normal.images",
          "normal.images",
          "normal.images",
          "normal.images",
          "normal.images",
          "normal.images",
          "normal.images",
          "normal.images",
          "normal.images",
          "normal.handWritten",
          "normal.handWritten",
          "normal.handWritten",
          "normal.handWritten",
          "normal.handWritten",
          "normal.handWritten",
          "normal.handWritten",
          "normal.handWritten",
          "normal.handWritten",
          "normal.handWritten",
          "normal.handWritten",
          "normal.handWritten",
          "normal.handWritten",
          "normal.handWritten",
          "normal.handWritten",
          "normal.handWritten",
          "normal.handWritten",
          "normal.handWritten",
          "normal.handWritten",
          "normal.handWritten",
          "normal.handWritten",
          "normal.handWritten",
          "normal.handWritten",
          "normal.handWritten",
          "normal.handWritten",
          "normal.handWritten",
          "normal.handWritten",
          "normal.handWritten",
          "normal.handWritten",
          "normal.handWritten",
          "normal.handWritten",
          "normal.handWritten",
          "normal.handWritten",
          "normal.handWritten",
          "normal.handWritten",
          "normal.handWritten",
          "normal.handWritten",
          "normal.handWritten",
          "normal.handWritten",
          "normal.handWritten",
          "normal.handWritten",
          "normal.handWritten",
          "normal.handWritten",
          "normal.handWritten",
          "normal.handWritten",
          "normal.handWritten",
          "normal.handWritten",
          "normal.handWritten",
          "normal.handWritten",
          "complex.text",
          "complex.text",
          "complex.text",
          "complex.text",
          "complex.text",
          "complex.text",
          "complex.text",
          "complex.text",
          "complex.text",
          "complex.text",
          "complex.text",
          "complex.text",
          "complex.text",
          "complex.text",
          "complex.text",
          "complex.text",
          "complex.text",
          "complex.text",
          "complex.text",
          "complex.text",
          "complex.text",
          "complex.text",
          "complex.text",
          "complex.text",
          "complex.text",
          "complex.text",
          "complex.text",
          "complex.text",
          "complex.text",
          "complex.text",
          "complex.text",
          "complex.text",
          "complex.text",
          "complex.text",
          "complex.text",
          "complex.text",
          "complex.text",
          "complex.text",
          "complex.text",
          "complex.text",
          "complex.text",
          "complex.text",
          "complex.text",
          "complex.text",
          "complex.text",
          "complex.text",
          "complex.text",
          "complex.text",
          "complex.text",
          "complex.text",
          "complex.text",
          "complex.text",
          "complex.text",
          "complex.text",
          "complex.text",
          "complex.text",
          "complex.text",
          "complex.text",
          "complex.text",
          "complex.text",
          "complex.text",
          "complex.text",
          "complex.text",
          "complex.text",
          "complex.text",
          "complex.text",
          "complex.text",
          "complex.text",
          "complex.text",
          "complex.text",
          "complex.text",
          "complex.text",
          "complex.text",
          "complex.text",
          "complex.text",
          "complex.text",
          "complex.text",
          "complex.text",
          "complex.text",
          "complex.text",
          "complex.text",
          "complex.text",
          "complex.text",
          "complex.text",
          "complex.text",
          "complex.text",
          "complex.text",
          "complex.text",
          "complex.text",
          "complex.text",
          "complex.text",
          "complex.text",
          "complex.text",
          "complex.text",
          "complex.text",
          "complex.text",
          "complex.text",
          "complex.text",
          "complex.text",
          "complex.text",
          "complex.text",
          "complex.text",
          "complex.text",
          "complex.text",
          "complex.text",
          "complex.text",
          "complex.text",
          "complex.text",
          "complex.text",
          "complex.text",
          "complex.text",
          "complex.text",
          "complex.text",
          "complex.text",
          "complex.text",
          "complex.text",
          "complex.text",
          "complex.text",
          "complex.text",
          "complex.text",
          "complex.pdf",
          "complex.pdf",
          "complex.pdf",
          "complex.pdf",
          "complex.pdf",
          "complex.pdf",
          "complex.pdf",
          "complex.pdf",
          "complex.pdf",
          "complex.pdf",
          "complex.pdf",
          "complex.pdf",
          "complex.pdf",
          "complex.pdf",
          "complex.pdf",
          "complex.pdf",
          "complex.pdf",
          "complex.pdf",
          "complex.pdf",
          "complex.pdf",
          "complex.pdf",
          "complex.pdf",
          "complex.pdf",
          "complex.pdf",
          "complex.pdf",
          "complex.pdf",
          "complex.pdf",
          "complex.pdf",
          "complex.pdf",
          "complex.pdf",
          "complex.pdf",
          "complex.pdf",
          "complex.pdf",
          "complex.pdf",
          "complex.pdf",
          "complex.pdf",
          "complex.pdf",
          "complex.pdf",
          "complex.pdf",
          "complex.pdf",
          "complex.pdf",
          "complex.pdf",
          "complex.pdf",
          "complex.pdf",
          "complex.pdf",
          "complex.pdf",
          "complex.pdf",
          "complex.pdf",
          "complex.pdf",
          "complex.pdf",
          "complex.pdf",
          "complex.pdf",
          "complex.pdf",
          "complex.pdf",
          "complex.pdf",
          "complex.pdf",
          "complex.pdf",
          "complex.pdf",
          "complex.pdf",
          "complex.pdf",
          "complex.pdf",
          "complex.pdf",
          "complex.pdf",
          "complex.pdf",
          "complex.pdf",
          "complex.pdf",
          "complex.pdf",
          "complex.pdf",
          "complex.pdf",
          "complex.pdf",
          "complex.pdf",
          "complex.pdf",
          "complex.pdf",
          "complex.pdf",
          "complex.pdf",
          "complex.pdf",
          "complex.pdf",
          "complex.pdf",
          "complex.pdf",
          "complex.pdf",
          "complex.pdf",
          "complex.pdf",
          "complex.pdf",
          "complex.pdf",
          "complex.pdf",
          "complex.pdf",
          "complex.pdf",
          "complex.pdf",
          "complex.pdf",
          "complex.pdf",
          "complex.pdf",
          "complex.pdf",
          "complex.pdf",
          "complex.pdf",
          "complex.pdf",
          "complex.pdf",
          "complex.pdf",
          "complex.pdf",
          "complex.pdf",
          "complex.pdf",
          "complex.pdf",
          "complex.pdf",
          "complex.pdf",
          "complex.pdf",
          "complex.pdf",
          "complex.pdf",
          "complex.pdf",
          "complex.pdf",
          "complex.pdf",
          "complex.pdf",
          "complex.pdf",
          "complex.pdf",
          "complex.pdf",
          "complex.pdf",
          "complex.pdf",
          "complex.pdf",
          "complex.pdf",
          "complex.pdf",
          "complex.pdf",
          "complex.pdf",
          "complex.images",
          "complex.images",
          "complex.images",
          "complex.images",
          "complex.images",
          "complex.images",
          "complex.images",
          "complex.images",
          "complex.images",
          "complex.images",
          "complex.images",
          "complex.images",
          "complex.images",
          "complex.images",
          "complex.images",
          "complex.images",
          "complex.images",
          "complex.images",
          "complex.images",
          "complex.images",
          "complex.images",
          "complex.images",
          "complex.images",
          "complex.images",
          "complex.images",
          "complex.images",
          "complex.images",
          "complex.images",
          "complex.images",
          "complex.images",
          "complex.images",
          "complex.images",
          "complex.images",
          "complex.images",
          "complex.images",
          "complex.images",
          "complex.images",
          "complex.images",
          "complex.images",
          "complex.images",
          "complex.images",
          "complex.images",
          "complex.images",
          "complex.images",
          "complex.images",
          "complex.images",
          "complex.images",
          "complex.images",
          "complex.images",
          "complex.images",
          "complex.images",
          "complex.images",
          "complex.images",
          "complex.images",
          "complex.images",
          "complex.images",
          "complex.images",
          "complex.images",
          "complex.images",
          "complex.images",
          "complex.images",
          "complex.images",
          "complex.images",
          "complex.images",
          "complex.images",
          "complex.images",
          "complex.images",
          "complex.images",
          "complex.images",
          "complex.images",
          "complex.images",
          "complex.images",
          "complex.images",
          "complex.images",
          "complex.images",
          "complex.images",
          "complex.images",
          "complex.images",
          "complex.images",
          "complex.images",
          "complex.images",
          "complex.images",
          "complex.images",
          "complex.images",
          "complex.images",
          "complex.images",
          "complex.images",
          "complex.images",
          "complex.images",
          "complex.images",
          "complex.images",
          "complex.images",
          "complex.images",
          "complex.images",
          "complex.images",
          "complex.images",
          "complex.images",
          "complex.images",
          "complex.images",
          "complex.images",
          "complex.images",
          "complex.images",
          "complex.images",
          "complex.images",
          "complex.images",
          "complex.images",
          "complex.images",
          "complex.images",
          "complex.images",
          "complex.images",
          "complex.images",
          "complex.images",
          "complex.images",
          "complex.images",
          "complex.images",
          "complex.images",
          "complex.images",
          "complex.images",
          "complex.images",
          "complex.images",
          "normal.handWritten",
          "normal.handWritten",
          "normal.handWritten",
          "normal.handWritten",
          "normal.handWritten",
          "normal.handWritten",
          "normal.handWritten",
          "normal.handWritten",
          "normal.handWritten",
          "normal.handWritten",
          "normal.handWritten",
          "normal.handWritten",
          "normal.handWritten",
          "normal.handWritten",
          "normal.handWritten",
          "normal.handWritten",
          "normal.handWritten",
          "normal.handWritten",
          "normal.handWritten",
          "normal.handWritten",
          "normal.handWritten",
          "normal.handWritten",
          "normal.handWritten",
          "normal.handWritten",
          "normal.handWritten",
          "normal.handWritten",
          "normal.handWritten",
          "normal.handWritten",
          "normal.handWritten",
          "normal.handWritten",
          "normal.handWritten",
          "normal.handWritten",
          "normal.handWritten",
          "normal.handWritten",
          "normal.handWritten",
          "normal.handWritten",
          "normal.handWritten",
          "normal.handWritten",
          "normal.handWritten",
          "normal.handWritten",
          "normal.handWritten",
          "normal.handWritten",
          "normal.handWritten",
          "normal.handWritten",
          "normal.handWritten",
          "normal.handWritten",
          "normal.handWritten",
          "normal.handWritten",
          "normal.handWritten",
          "normal.handWritten",
          "normal.handWritten",
          "normal.handWritten",
          "normal.handWritten",
          "normal.handWritten",
          "normal.handWritten",
          "normal.handWritten",
          "normal.handWritten",
          "normal.handWritten",
          "normal.handWritten",
          "normal.handWritten",
          "normal.handWritten",
          "normal.handWritten",
          "normal.handWritten",
          "normal.handWritten",
          "normal.handWritten",
          "normal.handWritten",
          "normal.handWritten",
          "normal.handWritten",
          "normal.handWritten",
          "normal.handWritten",
          "normal.handWritten"
         ],
         "x0": " ",
         "xaxis": "x",
         "y": {
          "bdata": "V2RXZGRXZGRXV2RkZFdXV2RXZGRXZFdXZGRkV2RXZGRkV2RXV2RkZGRkZGRkV2RkZGRXZFdXZGRXV2RkZGRXZFdkZGRkZGRkZGRkV2RXZFdkZGRkZGRkZFdkZFdXZFdkZGRXV2RXV1dkV1dXV1dkZGRkV2RkZFdXZGRkZGRkZGRkZGRkZGRkZGRkZGRkZGRkZGRkZGRkZGRkZGRkZGRkZGRkZGRkZGRkZGRkZGRkZGRkZGRkZGRkZGRkZGRkZGRkZGRkZGRkZGRkZGRkZGRkZGRkZGRkZGRkZGRkZGRkZGRkZGRkZGRkZGRkZGRkZF5dIyYrLlowJiQjMCckRisjMDA9MCMnMSQlJi0xMC4wIyYfMScxMDAwJickMCYfJiswHWRkZGRkZGRkZGRkZGRkZGRkZGRkZFdkX2RkZGRkZGRkZGRkZGRkZGRkZGRkZGRkZGRNZGRkZGRkZGRkZGRkZGRkZGRkZGRkZGRkZGRkZGRkZGRkZGRkZGRkZGRkZGRkZGRkZGRkZGRkZGRkZGRkZGRkZGRkZGRkWWRkZGRkZGRkZGRkZGRkZGRkZGRkZGRkZGRkZGRkZGRkZGRkZGRkZGRkZGRkZGRkZGRkZGRkZGRkZGRkZGRkZGRkX2RkZF1kXWBkZGRkXWRkZFpdZGRaZFlfXl1kWF9OU11YWF1iYmJOSVdHWV9cWlRWX0ddXV1HPWRkZGRkZGRkZGRkZGRkZGRkZGRkZGRkZGRkZGRkZGRkZGRkZGRkZGRkZGRkZGRkZGRkZGRkZGRkZGRkZGRkZGRkZGRkZGRkZGRkZGRkZGRkZGRkZGRkZGRkZGRkZGRkZGRkZGRkZGRkZGRkZGRkZGRVWE5aV1tURzVFJiQmJiYwMCctMDAkIyUxKy4wJSQmIyMwMFUjIychJjAmMCwmTScgIycrJiQoMCYiJCclJyctMDEmMCQxIyMjMCUmIEcw",
          "dtype": "i1"
         },
         "y0": " ",
         "yaxis": "y"
        }
       ],
       "layout": {
        "boxmode": "group",
        "legend": {
         "tracegroupgap": 0
        },
        "margin": {
         "t": 60
        },
        "template": {
         "data": {
          "bar": [
           {
            "error_x": {
             "color": "#2a3f5f"
            },
            "error_y": {
             "color": "#2a3f5f"
            },
            "marker": {
             "line": {
              "color": "#E5ECF6",
              "width": 0.5
             },
             "pattern": {
              "fillmode": "overlay",
              "size": 10,
              "solidity": 0.2
             }
            },
            "type": "bar"
           }
          ],
          "barpolar": [
           {
            "marker": {
             "line": {
              "color": "#E5ECF6",
              "width": 0.5
             },
             "pattern": {
              "fillmode": "overlay",
              "size": 10,
              "solidity": 0.2
             }
            },
            "type": "barpolar"
           }
          ],
          "carpet": [
           {
            "aaxis": {
             "endlinecolor": "#2a3f5f",
             "gridcolor": "white",
             "linecolor": "white",
             "minorgridcolor": "white",
             "startlinecolor": "#2a3f5f"
            },
            "baxis": {
             "endlinecolor": "#2a3f5f",
             "gridcolor": "white",
             "linecolor": "white",
             "minorgridcolor": "white",
             "startlinecolor": "#2a3f5f"
            },
            "type": "carpet"
           }
          ],
          "choropleth": [
           {
            "colorbar": {
             "outlinewidth": 0,
             "ticks": ""
            },
            "type": "choropleth"
           }
          ],
          "contour": [
           {
            "colorbar": {
             "outlinewidth": 0,
             "ticks": ""
            },
            "colorscale": [
             [
              0,
              "#0d0887"
             ],
             [
              0.1111111111111111,
              "#46039f"
             ],
             [
              0.2222222222222222,
              "#7201a8"
             ],
             [
              0.3333333333333333,
              "#9c179e"
             ],
             [
              0.4444444444444444,
              "#bd3786"
             ],
             [
              0.5555555555555556,
              "#d8576b"
             ],
             [
              0.6666666666666666,
              "#ed7953"
             ],
             [
              0.7777777777777778,
              "#fb9f3a"
             ],
             [
              0.8888888888888888,
              "#fdca26"
             ],
             [
              1,
              "#f0f921"
             ]
            ],
            "type": "contour"
           }
          ],
          "contourcarpet": [
           {
            "colorbar": {
             "outlinewidth": 0,
             "ticks": ""
            },
            "type": "contourcarpet"
           }
          ],
          "heatmap": [
           {
            "colorbar": {
             "outlinewidth": 0,
             "ticks": ""
            },
            "colorscale": [
             [
              0,
              "#0d0887"
             ],
             [
              0.1111111111111111,
              "#46039f"
             ],
             [
              0.2222222222222222,
              "#7201a8"
             ],
             [
              0.3333333333333333,
              "#9c179e"
             ],
             [
              0.4444444444444444,
              "#bd3786"
             ],
             [
              0.5555555555555556,
              "#d8576b"
             ],
             [
              0.6666666666666666,
              "#ed7953"
             ],
             [
              0.7777777777777778,
              "#fb9f3a"
             ],
             [
              0.8888888888888888,
              "#fdca26"
             ],
             [
              1,
              "#f0f921"
             ]
            ],
            "type": "heatmap"
           }
          ],
          "histogram": [
           {
            "marker": {
             "pattern": {
              "fillmode": "overlay",
              "size": 10,
              "solidity": 0.2
             }
            },
            "type": "histogram"
           }
          ],
          "histogram2d": [
           {
            "colorbar": {
             "outlinewidth": 0,
             "ticks": ""
            },
            "colorscale": [
             [
              0,
              "#0d0887"
             ],
             [
              0.1111111111111111,
              "#46039f"
             ],
             [
              0.2222222222222222,
              "#7201a8"
             ],
             [
              0.3333333333333333,
              "#9c179e"
             ],
             [
              0.4444444444444444,
              "#bd3786"
             ],
             [
              0.5555555555555556,
              "#d8576b"
             ],
             [
              0.6666666666666666,
              "#ed7953"
             ],
             [
              0.7777777777777778,
              "#fb9f3a"
             ],
             [
              0.8888888888888888,
              "#fdca26"
             ],
             [
              1,
              "#f0f921"
             ]
            ],
            "type": "histogram2d"
           }
          ],
          "histogram2dcontour": [
           {
            "colorbar": {
             "outlinewidth": 0,
             "ticks": ""
            },
            "colorscale": [
             [
              0,
              "#0d0887"
             ],
             [
              0.1111111111111111,
              "#46039f"
             ],
             [
              0.2222222222222222,
              "#7201a8"
             ],
             [
              0.3333333333333333,
              "#9c179e"
             ],
             [
              0.4444444444444444,
              "#bd3786"
             ],
             [
              0.5555555555555556,
              "#d8576b"
             ],
             [
              0.6666666666666666,
              "#ed7953"
             ],
             [
              0.7777777777777778,
              "#fb9f3a"
             ],
             [
              0.8888888888888888,
              "#fdca26"
             ],
             [
              1,
              "#f0f921"
             ]
            ],
            "type": "histogram2dcontour"
           }
          ],
          "mesh3d": [
           {
            "colorbar": {
             "outlinewidth": 0,
             "ticks": ""
            },
            "type": "mesh3d"
           }
          ],
          "parcoords": [
           {
            "line": {
             "colorbar": {
              "outlinewidth": 0,
              "ticks": ""
             }
            },
            "type": "parcoords"
           }
          ],
          "pie": [
           {
            "automargin": true,
            "type": "pie"
           }
          ],
          "scatter": [
           {
            "fillpattern": {
             "fillmode": "overlay",
             "size": 10,
             "solidity": 0.2
            },
            "type": "scatter"
           }
          ],
          "scatter3d": [
           {
            "line": {
             "colorbar": {
              "outlinewidth": 0,
              "ticks": ""
             }
            },
            "marker": {
             "colorbar": {
              "outlinewidth": 0,
              "ticks": ""
             }
            },
            "type": "scatter3d"
           }
          ],
          "scattercarpet": [
           {
            "marker": {
             "colorbar": {
              "outlinewidth": 0,
              "ticks": ""
             }
            },
            "type": "scattercarpet"
           }
          ],
          "scattergeo": [
           {
            "marker": {
             "colorbar": {
              "outlinewidth": 0,
              "ticks": ""
             }
            },
            "type": "scattergeo"
           }
          ],
          "scattergl": [
           {
            "marker": {
             "colorbar": {
              "outlinewidth": 0,
              "ticks": ""
             }
            },
            "type": "scattergl"
           }
          ],
          "scattermap": [
           {
            "marker": {
             "colorbar": {
              "outlinewidth": 0,
              "ticks": ""
             }
            },
            "type": "scattermap"
           }
          ],
          "scattermapbox": [
           {
            "marker": {
             "colorbar": {
              "outlinewidth": 0,
              "ticks": ""
             }
            },
            "type": "scattermapbox"
           }
          ],
          "scatterpolar": [
           {
            "marker": {
             "colorbar": {
              "outlinewidth": 0,
              "ticks": ""
             }
            },
            "type": "scatterpolar"
           }
          ],
          "scatterpolargl": [
           {
            "marker": {
             "colorbar": {
              "outlinewidth": 0,
              "ticks": ""
             }
            },
            "type": "scatterpolargl"
           }
          ],
          "scatterternary": [
           {
            "marker": {
             "colorbar": {
              "outlinewidth": 0,
              "ticks": ""
             }
            },
            "type": "scatterternary"
           }
          ],
          "surface": [
           {
            "colorbar": {
             "outlinewidth": 0,
             "ticks": ""
            },
            "colorscale": [
             [
              0,
              "#0d0887"
             ],
             [
              0.1111111111111111,
              "#46039f"
             ],
             [
              0.2222222222222222,
              "#7201a8"
             ],
             [
              0.3333333333333333,
              "#9c179e"
             ],
             [
              0.4444444444444444,
              "#bd3786"
             ],
             [
              0.5555555555555556,
              "#d8576b"
             ],
             [
              0.6666666666666666,
              "#ed7953"
             ],
             [
              0.7777777777777778,
              "#fb9f3a"
             ],
             [
              0.8888888888888888,
              "#fdca26"
             ],
             [
              1,
              "#f0f921"
             ]
            ],
            "type": "surface"
           }
          ],
          "table": [
           {
            "cells": {
             "fill": {
              "color": "#EBF0F8"
             },
             "line": {
              "color": "white"
             }
            },
            "header": {
             "fill": {
              "color": "#C8D4E3"
             },
             "line": {
              "color": "white"
             }
            },
            "type": "table"
           }
          ]
         },
         "layout": {
          "annotationdefaults": {
           "arrowcolor": "#2a3f5f",
           "arrowhead": 0,
           "arrowwidth": 1
          },
          "autotypenumbers": "strict",
          "coloraxis": {
           "colorbar": {
            "outlinewidth": 0,
            "ticks": ""
           }
          },
          "colorscale": {
           "diverging": [
            [
             0,
             "#8e0152"
            ],
            [
             0.1,
             "#c51b7d"
            ],
            [
             0.2,
             "#de77ae"
            ],
            [
             0.3,
             "#f1b6da"
            ],
            [
             0.4,
             "#fde0ef"
            ],
            [
             0.5,
             "#f7f7f7"
            ],
            [
             0.6,
             "#e6f5d0"
            ],
            [
             0.7,
             "#b8e186"
            ],
            [
             0.8,
             "#7fbc41"
            ],
            [
             0.9,
             "#4d9221"
            ],
            [
             1,
             "#276419"
            ]
           ],
           "sequential": [
            [
             0,
             "#0d0887"
            ],
            [
             0.1111111111111111,
             "#46039f"
            ],
            [
             0.2222222222222222,
             "#7201a8"
            ],
            [
             0.3333333333333333,
             "#9c179e"
            ],
            [
             0.4444444444444444,
             "#bd3786"
            ],
            [
             0.5555555555555556,
             "#d8576b"
            ],
            [
             0.6666666666666666,
             "#ed7953"
            ],
            [
             0.7777777777777778,
             "#fb9f3a"
            ],
            [
             0.8888888888888888,
             "#fdca26"
            ],
            [
             1,
             "#f0f921"
            ]
           ],
           "sequentialminus": [
            [
             0,
             "#0d0887"
            ],
            [
             0.1111111111111111,
             "#46039f"
            ],
            [
             0.2222222222222222,
             "#7201a8"
            ],
            [
             0.3333333333333333,
             "#9c179e"
            ],
            [
             0.4444444444444444,
             "#bd3786"
            ],
            [
             0.5555555555555556,
             "#d8576b"
            ],
            [
             0.6666666666666666,
             "#ed7953"
            ],
            [
             0.7777777777777778,
             "#fb9f3a"
            ],
            [
             0.8888888888888888,
             "#fdca26"
            ],
            [
             1,
             "#f0f921"
            ]
           ]
          },
          "colorway": [
           "#636efa",
           "#EF553B",
           "#00cc96",
           "#ab63fa",
           "#FFA15A",
           "#19d3f3",
           "#FF6692",
           "#B6E880",
           "#FF97FF",
           "#FECB52"
          ],
          "font": {
           "color": "#2a3f5f"
          },
          "geo": {
           "bgcolor": "white",
           "lakecolor": "white",
           "landcolor": "#E5ECF6",
           "showlakes": true,
           "showland": true,
           "subunitcolor": "white"
          },
          "hoverlabel": {
           "align": "left"
          },
          "hovermode": "closest",
          "mapbox": {
           "style": "light"
          },
          "paper_bgcolor": "white",
          "plot_bgcolor": "#E5ECF6",
          "polar": {
           "angularaxis": {
            "gridcolor": "white",
            "linecolor": "white",
            "ticks": ""
           },
           "bgcolor": "#E5ECF6",
           "radialaxis": {
            "gridcolor": "white",
            "linecolor": "white",
            "ticks": ""
           }
          },
          "scene": {
           "xaxis": {
            "backgroundcolor": "#E5ECF6",
            "gridcolor": "white",
            "gridwidth": 2,
            "linecolor": "white",
            "showbackground": true,
            "ticks": "",
            "zerolinecolor": "white"
           },
           "yaxis": {
            "backgroundcolor": "#E5ECF6",
            "gridcolor": "white",
            "gridwidth": 2,
            "linecolor": "white",
            "showbackground": true,
            "ticks": "",
            "zerolinecolor": "white"
           },
           "zaxis": {
            "backgroundcolor": "#E5ECF6",
            "gridcolor": "white",
            "gridwidth": 2,
            "linecolor": "white",
            "showbackground": true,
            "ticks": "",
            "zerolinecolor": "white"
           }
          },
          "shapedefaults": {
           "line": {
            "color": "#2a3f5f"
           }
          },
          "ternary": {
           "aaxis": {
            "gridcolor": "white",
            "linecolor": "white",
            "ticks": ""
           },
           "baxis": {
            "gridcolor": "white",
            "linecolor": "white",
            "ticks": ""
           },
           "bgcolor": "#E5ECF6",
           "caxis": {
            "gridcolor": "white",
            "linecolor": "white",
            "ticks": ""
           }
          },
          "title": {
           "x": 0.05
          },
          "xaxis": {
           "automargin": true,
           "gridcolor": "white",
           "linecolor": "white",
           "ticks": "",
           "title": {
            "standoff": 15
           },
           "zerolinecolor": "white",
           "zerolinewidth": 2
          },
          "yaxis": {
           "automargin": true,
           "gridcolor": "white",
           "linecolor": "white",
           "ticks": "",
           "title": {
            "standoff": 15
           },
           "zerolinecolor": "white",
           "zerolinewidth": 2
          }
         }
        },
        "xaxis": {
         "anchor": "y",
         "domain": [
          0,
          1
         ],
         "title": {
          "text": "name"
         }
        },
        "yaxis": {
         "anchor": "x",
         "domain": [
          0,
          1
         ],
         "title": {
          "text": "score"
         }
        }
       }
      }
     },
     "metadata": {},
     "output_type": "display_data"
    }
   ],
   "source": [
    "fig = px.box(df_code, x = \"name\", y = \"score\")\n",
    "fig.show()"
   ]
  },
  {
   "cell_type": "code",
   "execution_count": 137,
   "id": "a6caf117",
   "metadata": {},
   "outputs": [
    {
     "data": {
      "text/html": [
       "<div>\n",
       "<style scoped>\n",
       "    .dataframe tbody tr th:only-of-type {\n",
       "        vertical-align: middle;\n",
       "    }\n",
       "\n",
       "    .dataframe tbody tr th {\n",
       "        vertical-align: top;\n",
       "    }\n",
       "\n",
       "    .dataframe thead th {\n",
       "        text-align: right;\n",
       "    }\n",
       "</style>\n",
       "<table border=\"1\" class=\"dataframe\">\n",
       "  <thead>\n",
       "    <tr style=\"text-align: right;\">\n",
       "      <th></th>\n",
       "      <th>count</th>\n",
       "      <th>avg</th>\n",
       "      <th>std</th>\n",
       "    </tr>\n",
       "    <tr>\n",
       "      <th>name</th>\n",
       "      <th></th>\n",
       "      <th></th>\n",
       "      <th></th>\n",
       "    </tr>\n",
       "  </thead>\n",
       "  <tbody>\n",
       "    <tr>\n",
       "      <th>complex.images</th>\n",
       "      <td>120</td>\n",
       "      <td>98.950000</td>\n",
       "      <td>4.268017</td>\n",
       "    </tr>\n",
       "    <tr>\n",
       "      <th>complex.pdf</th>\n",
       "      <td>120</td>\n",
       "      <td>96.133333</td>\n",
       "      <td>7.432535</td>\n",
       "    </tr>\n",
       "    <tr>\n",
       "      <th>complex.text</th>\n",
       "      <td>120</td>\n",
       "      <td>99.566667</td>\n",
       "      <td>2.627372</td>\n",
       "    </tr>\n",
       "    <tr>\n",
       "      <th>normal.handWritten</th>\n",
       "      <td>120</td>\n",
       "      <td>42.891667</td>\n",
       "      <td>9.964471</td>\n",
       "    </tr>\n",
       "    <tr>\n",
       "      <th>normal.images</th>\n",
       "      <td>120</td>\n",
       "      <td>99.891667</td>\n",
       "      <td>0.838123</td>\n",
       "    </tr>\n",
       "    <tr>\n",
       "      <th>normal.text</th>\n",
       "      <td>120</td>\n",
       "      <td>95.125000</td>\n",
       "      <td>6.319986</td>\n",
       "    </tr>\n",
       "  </tbody>\n",
       "</table>\n",
       "</div>"
      ],
      "text/plain": [
       "                    count        avg       std\n",
       "name                                          \n",
       "complex.images        120  98.950000  4.268017\n",
       "complex.pdf           120  96.133333  7.432535\n",
       "complex.text          120  99.566667  2.627372\n",
       "normal.handWritten    120  42.891667  9.964471\n",
       "normal.images         120  99.891667  0.838123\n",
       "normal.text           120  95.125000  6.319986"
      ]
     },
     "execution_count": 137,
     "metadata": {},
     "output_type": "execute_result"
    }
   ],
   "source": [
    "stats = df_code.groupby(\"name\").agg(\n",
    "    count=(\"score\", \"count\"), avg=(\"score\", \"mean\"), std=(\"score\", \"std\")\n",
    ")\n",
    "\n",
    "stats"
   ]
  },
  {
   "cell_type": "code",
   "execution_count": 138,
   "id": "33b9c77e",
   "metadata": {},
   "outputs": [
    {
     "data": {
      "application/vnd.plotly.v1+json": {
       "config": {
        "plotlyServerURL": "https://plot.ly"
       },
       "data": [
        {
         "alignmentgroup": "True",
         "hovertemplate": "name=%{x}<br>score=%{y}<extra></extra>",
         "legendgroup": "",
         "marker": {
          "color": "#636efa"
         },
         "name": "",
         "notched": false,
         "offsetgroup": "",
         "orientation": "v",
         "showlegend": false,
         "type": "box",
         "x": [
          null,
          null,
          null,
          null,
          null,
          null,
          null,
          null,
          null,
          null,
          null,
          null,
          null,
          null,
          null,
          null,
          null,
          null,
          null,
          null,
          null,
          null,
          null,
          null,
          null,
          null,
          null,
          null,
          null,
          null,
          null,
          null,
          null,
          null,
          null,
          null,
          null,
          null,
          null,
          null,
          null,
          null,
          null,
          null,
          null,
          null,
          null,
          null,
          null,
          null,
          null,
          null,
          null,
          null,
          null,
          null,
          null,
          null,
          null,
          null,
          null,
          null,
          null,
          null,
          null,
          null,
          null,
          null,
          null,
          null,
          null,
          null,
          null,
          null,
          null,
          null,
          null,
          null,
          null,
          null,
          null,
          null,
          null,
          null,
          null,
          null,
          null,
          null,
          null,
          null,
          null,
          null,
          null,
          null,
          null,
          null,
          null,
          null,
          null,
          null,
          null,
          null,
          null,
          null,
          null,
          null,
          null,
          null,
          null,
          null,
          null,
          null,
          null,
          null,
          null,
          null,
          null,
          null,
          null,
          null,
          null,
          null,
          null,
          null,
          null,
          null,
          null,
          null,
          null,
          null,
          null,
          null,
          null,
          null,
          null,
          null,
          null,
          null,
          null,
          null,
          null,
          null,
          null,
          null,
          null,
          null,
          null,
          null,
          null,
          null,
          null,
          null,
          null,
          null,
          null,
          null,
          null,
          null,
          null,
          null,
          null,
          null,
          null,
          null,
          null,
          null,
          null,
          null,
          null,
          null,
          null,
          null,
          null,
          null,
          null,
          null,
          null,
          null,
          null,
          null,
          null,
          null,
          null,
          null,
          null,
          null,
          null,
          null,
          null,
          null,
          null,
          null,
          null,
          null,
          null,
          null,
          null,
          null,
          null,
          null,
          null,
          null,
          null,
          null,
          null,
          null,
          null,
          null,
          null,
          null,
          null,
          null,
          null,
          null,
          null,
          null,
          null,
          null,
          null,
          null,
          null,
          null,
          null,
          null,
          null,
          null,
          null,
          null,
          null,
          null,
          null,
          null,
          null,
          null,
          null,
          null,
          null,
          null,
          null,
          null,
          "pdf.part.prompt",
          "pdf.part.prompt",
          "pdf.part.prompt",
          "pdf.part.prompt",
          "pdf.part.prompt",
          "pdf.part.prompt",
          "pdf.part.prompt",
          "pdf.part.prompt",
          "pdf.part.prompt",
          "pdf.part.prompt",
          "pdf.part.prompt",
          "pdf.part.prompt",
          "pdf.part.prompt",
          "pdf.part.prompt",
          "pdf.part.prompt",
          "pdf.part.prompt",
          "pdf.part.prompt",
          "pdf.part.prompt",
          "pdf.part.prompt",
          "pdf.part.prompt",
          "pdf.part.prompt",
          "pdf.part.prompt",
          "pdf.part.prompt",
          "pdf.part.prompt",
          "pdf.part.prompt",
          "pdf.part.prompt",
          "pdf.part.prompt",
          "pdf.part.prompt",
          "pdf.part.prompt",
          "pdf.part.prompt",
          "pdf.part.prompt",
          "pdf.part.prompt",
          "pdf.part.prompt",
          "pdf.part.prompt",
          "pdf.part.prompt",
          "pdf.part.prompt",
          "pdf.part.prompt",
          "pdf.part.prompt",
          "pdf.part.prompt",
          "pdf.part.prompt",
          "pdf.part.prompt",
          "pdf.part.prompt",
          "pdf.part.prompt",
          "pdf.part.prompt",
          "pdf.part.prompt",
          "pdf.part.prompt",
          "pdf.part.prompt",
          "pdf.part.prompt",
          "pdf.part.prompt",
          "pdf.part.prompt",
          "pdf.part.prompt",
          "pdf.part.prompt",
          "pdf.part.prompt",
          "pdf.part.prompt",
          "pdf.part.prompt",
          "pdf.part.prompt",
          "pdf.part.prompt",
          "pdf.part.prompt",
          "pdf.part.prompt",
          "pdf.part.prompt",
          "pdf.part.prompt",
          "pdf.part.prompt",
          "pdf.part.prompt",
          "pdf.part.prompt",
          "pdf.part.prompt",
          "pdf.part.prompt",
          "pdf.part.prompt",
          "pdf.part.prompt",
          "pdf.part.prompt",
          "pdf.part.prompt",
          "pdf.part.prompt",
          "pdf.part.prompt",
          "pdf.part.prompt",
          "pdf.part.prompt",
          "pdf.part.prompt",
          "pdf.part.prompt",
          "pdf.part.prompt",
          "pdf.part.prompt",
          "pdf.part.prompt",
          "pdf.part.prompt",
          "pdf.part.prompt",
          "pdf.part.prompt",
          "pdf.part.prompt",
          "pdf.part.prompt",
          "pdf.part.prompt",
          "pdf.part.prompt",
          "pdf.part.prompt",
          "pdf.part.prompt",
          "pdf.part.prompt",
          "pdf.part.prompt",
          "pdf.part.prompt",
          "pdf.part.prompt",
          "pdf.part.prompt",
          "pdf.part.prompt",
          "pdf.part.prompt",
          "pdf.part.prompt",
          "pdf.part.prompt",
          "pdf.part.prompt",
          "pdf.part.prompt",
          "pdf.part.prompt",
          "pdf.part.prompt",
          "pdf.part.prompt",
          "pdf.part.prompt",
          "pdf.part.prompt",
          "pdf.part.prompt",
          "pdf.part.prompt",
          "pdf.part.prompt",
          "pdf.part.prompt",
          "pdf.part.prompt",
          "pdf.part.prompt",
          "pdf.part.prompt",
          "pdf.part.prompt",
          "pdf.part.prompt",
          "pdf.part.prompt",
          "pdf.part.prompt",
          "pdf.part.prompt",
          "pdf.part.prompt",
          "pdf.part.prompt",
          "pdf.part.prompt",
          "pdf.part.prompt",
          "pdf.part.manual",
          "pdf.part.manual",
          "pdf.part.manual",
          "pdf.part.manual",
          "pdf.part.manual",
          "pdf.part.manual",
          "pdf.part.manual",
          "pdf.part.manual",
          "pdf.part.manual",
          "pdf.part.manual",
          "pdf.part.manual",
          "pdf.part.manual",
          "pdf.part.manual",
          "pdf.part.manual",
          "pdf.part.manual",
          "pdf.part.manual",
          "pdf.part.manual",
          "pdf.part.manual",
          "pdf.part.manual",
          "pdf.part.manual",
          "pdf.part.manual",
          "pdf.part.manual",
          "pdf.part.manual",
          "pdf.part.manual",
          "pdf.part.manual",
          "pdf.part.manual",
          "pdf.part.manual",
          "pdf.part.manual",
          "pdf.part.manual",
          "pdf.part.manual",
          "pdf.part.manual",
          "pdf.part.manual",
          "pdf.part.manual",
          "pdf.part.manual",
          "pdf.part.manual",
          "pdf.part.manual",
          "pdf.part.manual",
          "pdf.part.manual",
          "pdf.part.manual",
          "pdf.part.manual",
          "pdf.part.manual",
          "pdf.part.manual",
          "pdf.part.manual",
          "pdf.part.manual",
          "pdf.part.manual",
          "pdf.part.manual",
          "pdf.part.manual",
          "pdf.part.manual",
          "pdf.part.manual",
          "pdf.part.manual",
          "pdf.part.manual",
          "pdf.part.manual",
          "pdf.part.manual",
          "pdf.part.manual",
          "pdf.part.manual",
          "pdf.part.manual",
          "pdf.part.manual",
          "pdf.part.manual",
          "pdf.part.manual",
          "pdf.part.manual",
          "pdf.part.manual",
          "pdf.part.manual",
          "pdf.part.manual",
          "pdf.part.manual",
          "pdf.part.manual",
          "pdf.part.manual",
          "pdf.part.manual",
          "pdf.part.manual",
          "pdf.part.manual",
          "pdf.part.manual",
          "pdf.part.manual",
          "pdf.part.manual",
          "pdf.part.manual",
          "pdf.part.manual",
          "pdf.part.manual",
          "pdf.part.manual",
          "pdf.part.manual",
          "pdf.part.manual",
          "pdf.part.manual",
          "pdf.part.manual",
          "pdf.part.manual",
          "pdf.part.manual",
          "pdf.part.manual",
          "pdf.part.manual",
          "pdf.part.manual",
          "pdf.part.manual",
          "pdf.part.manual",
          "pdf.part.manual",
          "pdf.part.manual",
          "pdf.part.manual",
          "pdf.part.manual",
          "pdf.part.manual",
          "pdf.part.manual",
          "pdf.part.manual",
          "pdf.part.manual",
          "pdf.part.manual",
          "pdf.part.manual",
          "pdf.part.manual",
          "pdf.part.manual",
          "pdf.part.manual",
          "pdf.part.manual",
          "pdf.part.manual",
          "pdf.part.manual",
          "pdf.part.manual",
          "pdf.part.manual",
          "pdf.part.manual",
          "pdf.part.manual",
          "pdf.part.manual",
          "pdf.part.manual",
          "pdf.part.manual",
          "pdf.part.manual",
          "pdf.part.manual",
          "pdf.part.manual",
          "pdf.part.manual",
          "pdf.part.manual",
          "pdf.part.manual",
          "pdf.part.manual",
          "pdf.part.manual",
          "pdf.part.manual",
          "pdf.part.manual"
         ],
         "x0": " ",
         "xaxis": "x",
         "y": {
          "bdata": "U1BQUVZWVV5WVVVRVVVVU1NXU1NVVFVQU1hSVlJVYVNFVFFTTFFVUFBTU1NSV1NWVlVQU1FOR1JWVlVGU1VSU1VVVE9VU1VUQVRTW1BTTlZSVFFXVWFRU0VVUFdRUFVWUFFVUFNSVUBMVk5QU0BQUVNXUlNTT1NFVVVVVVVVVVVVVVVVVVVVVVVVVVVVVVVVVVVVVVVVVVVVVVVVVVVVVVVVVVVVVVVVVVVVVVVVVVVVVVVVVVVVVVVVVVVVVVVVVVVVVVVVVVVVVVVVVVVVVVVVVVVVVVVVVVVVS1VVVVVVVVVVVVVVVU5VVVVVVVVVZF4yXmRkPGQyPjAyMjJkRWRQHh5bMlpkM0wwZEUwUUZNMA8zME1QPDJUHmRSMlAzMyhPPFJkTmQ8XjIfXlphXlBkMFJhNWReTD1aNzJQMy8vTE4wOTBSTk5OTjAxLzNbTjQwM0wyXig5UC9AHypCMzI8KDxMRDhMS0xKTExLTEVKSllMTlNLUEpKSktMT0tKTUpESllITFZMU0JMTlBMNktMTUtMSkhNTTtUTUhMNk8xOTlTQUFFTzFKSEE0TUlLTEhFNjtLRFk2TUtKOUsmS0AmICoyLTQkJywsLywnKy4nMjQpJCwnJyknNDQnJyYs",
          "dtype": "i1"
         },
         "y0": " ",
         "yaxis": "y"
        }
       ],
       "layout": {
        "boxmode": "group",
        "legend": {
         "tracegroupgap": 0
        },
        "margin": {
         "t": 60
        },
        "template": {
         "data": {
          "bar": [
           {
            "error_x": {
             "color": "#2a3f5f"
            },
            "error_y": {
             "color": "#2a3f5f"
            },
            "marker": {
             "line": {
              "color": "#E5ECF6",
              "width": 0.5
             },
             "pattern": {
              "fillmode": "overlay",
              "size": 10,
              "solidity": 0.2
             }
            },
            "type": "bar"
           }
          ],
          "barpolar": [
           {
            "marker": {
             "line": {
              "color": "#E5ECF6",
              "width": 0.5
             },
             "pattern": {
              "fillmode": "overlay",
              "size": 10,
              "solidity": 0.2
             }
            },
            "type": "barpolar"
           }
          ],
          "carpet": [
           {
            "aaxis": {
             "endlinecolor": "#2a3f5f",
             "gridcolor": "white",
             "linecolor": "white",
             "minorgridcolor": "white",
             "startlinecolor": "#2a3f5f"
            },
            "baxis": {
             "endlinecolor": "#2a3f5f",
             "gridcolor": "white",
             "linecolor": "white",
             "minorgridcolor": "white",
             "startlinecolor": "#2a3f5f"
            },
            "type": "carpet"
           }
          ],
          "choropleth": [
           {
            "colorbar": {
             "outlinewidth": 0,
             "ticks": ""
            },
            "type": "choropleth"
           }
          ],
          "contour": [
           {
            "colorbar": {
             "outlinewidth": 0,
             "ticks": ""
            },
            "colorscale": [
             [
              0,
              "#0d0887"
             ],
             [
              0.1111111111111111,
              "#46039f"
             ],
             [
              0.2222222222222222,
              "#7201a8"
             ],
             [
              0.3333333333333333,
              "#9c179e"
             ],
             [
              0.4444444444444444,
              "#bd3786"
             ],
             [
              0.5555555555555556,
              "#d8576b"
             ],
             [
              0.6666666666666666,
              "#ed7953"
             ],
             [
              0.7777777777777778,
              "#fb9f3a"
             ],
             [
              0.8888888888888888,
              "#fdca26"
             ],
             [
              1,
              "#f0f921"
             ]
            ],
            "type": "contour"
           }
          ],
          "contourcarpet": [
           {
            "colorbar": {
             "outlinewidth": 0,
             "ticks": ""
            },
            "type": "contourcarpet"
           }
          ],
          "heatmap": [
           {
            "colorbar": {
             "outlinewidth": 0,
             "ticks": ""
            },
            "colorscale": [
             [
              0,
              "#0d0887"
             ],
             [
              0.1111111111111111,
              "#46039f"
             ],
             [
              0.2222222222222222,
              "#7201a8"
             ],
             [
              0.3333333333333333,
              "#9c179e"
             ],
             [
              0.4444444444444444,
              "#bd3786"
             ],
             [
              0.5555555555555556,
              "#d8576b"
             ],
             [
              0.6666666666666666,
              "#ed7953"
             ],
             [
              0.7777777777777778,
              "#fb9f3a"
             ],
             [
              0.8888888888888888,
              "#fdca26"
             ],
             [
              1,
              "#f0f921"
             ]
            ],
            "type": "heatmap"
           }
          ],
          "histogram": [
           {
            "marker": {
             "pattern": {
              "fillmode": "overlay",
              "size": 10,
              "solidity": 0.2
             }
            },
            "type": "histogram"
           }
          ],
          "histogram2d": [
           {
            "colorbar": {
             "outlinewidth": 0,
             "ticks": ""
            },
            "colorscale": [
             [
              0,
              "#0d0887"
             ],
             [
              0.1111111111111111,
              "#46039f"
             ],
             [
              0.2222222222222222,
              "#7201a8"
             ],
             [
              0.3333333333333333,
              "#9c179e"
             ],
             [
              0.4444444444444444,
              "#bd3786"
             ],
             [
              0.5555555555555556,
              "#d8576b"
             ],
             [
              0.6666666666666666,
              "#ed7953"
             ],
             [
              0.7777777777777778,
              "#fb9f3a"
             ],
             [
              0.8888888888888888,
              "#fdca26"
             ],
             [
              1,
              "#f0f921"
             ]
            ],
            "type": "histogram2d"
           }
          ],
          "histogram2dcontour": [
           {
            "colorbar": {
             "outlinewidth": 0,
             "ticks": ""
            },
            "colorscale": [
             [
              0,
              "#0d0887"
             ],
             [
              0.1111111111111111,
              "#46039f"
             ],
             [
              0.2222222222222222,
              "#7201a8"
             ],
             [
              0.3333333333333333,
              "#9c179e"
             ],
             [
              0.4444444444444444,
              "#bd3786"
             ],
             [
              0.5555555555555556,
              "#d8576b"
             ],
             [
              0.6666666666666666,
              "#ed7953"
             ],
             [
              0.7777777777777778,
              "#fb9f3a"
             ],
             [
              0.8888888888888888,
              "#fdca26"
             ],
             [
              1,
              "#f0f921"
             ]
            ],
            "type": "histogram2dcontour"
           }
          ],
          "mesh3d": [
           {
            "colorbar": {
             "outlinewidth": 0,
             "ticks": ""
            },
            "type": "mesh3d"
           }
          ],
          "parcoords": [
           {
            "line": {
             "colorbar": {
              "outlinewidth": 0,
              "ticks": ""
             }
            },
            "type": "parcoords"
           }
          ],
          "pie": [
           {
            "automargin": true,
            "type": "pie"
           }
          ],
          "scatter": [
           {
            "fillpattern": {
             "fillmode": "overlay",
             "size": 10,
             "solidity": 0.2
            },
            "type": "scatter"
           }
          ],
          "scatter3d": [
           {
            "line": {
             "colorbar": {
              "outlinewidth": 0,
              "ticks": ""
             }
            },
            "marker": {
             "colorbar": {
              "outlinewidth": 0,
              "ticks": ""
             }
            },
            "type": "scatter3d"
           }
          ],
          "scattercarpet": [
           {
            "marker": {
             "colorbar": {
              "outlinewidth": 0,
              "ticks": ""
             }
            },
            "type": "scattercarpet"
           }
          ],
          "scattergeo": [
           {
            "marker": {
             "colorbar": {
              "outlinewidth": 0,
              "ticks": ""
             }
            },
            "type": "scattergeo"
           }
          ],
          "scattergl": [
           {
            "marker": {
             "colorbar": {
              "outlinewidth": 0,
              "ticks": ""
             }
            },
            "type": "scattergl"
           }
          ],
          "scattermap": [
           {
            "marker": {
             "colorbar": {
              "outlinewidth": 0,
              "ticks": ""
             }
            },
            "type": "scattermap"
           }
          ],
          "scattermapbox": [
           {
            "marker": {
             "colorbar": {
              "outlinewidth": 0,
              "ticks": ""
             }
            },
            "type": "scattermapbox"
           }
          ],
          "scatterpolar": [
           {
            "marker": {
             "colorbar": {
              "outlinewidth": 0,
              "ticks": ""
             }
            },
            "type": "scatterpolar"
           }
          ],
          "scatterpolargl": [
           {
            "marker": {
             "colorbar": {
              "outlinewidth": 0,
              "ticks": ""
             }
            },
            "type": "scatterpolargl"
           }
          ],
          "scatterternary": [
           {
            "marker": {
             "colorbar": {
              "outlinewidth": 0,
              "ticks": ""
             }
            },
            "type": "scatterternary"
           }
          ],
          "surface": [
           {
            "colorbar": {
             "outlinewidth": 0,
             "ticks": ""
            },
            "colorscale": [
             [
              0,
              "#0d0887"
             ],
             [
              0.1111111111111111,
              "#46039f"
             ],
             [
              0.2222222222222222,
              "#7201a8"
             ],
             [
              0.3333333333333333,
              "#9c179e"
             ],
             [
              0.4444444444444444,
              "#bd3786"
             ],
             [
              0.5555555555555556,
              "#d8576b"
             ],
             [
              0.6666666666666666,
              "#ed7953"
             ],
             [
              0.7777777777777778,
              "#fb9f3a"
             ],
             [
              0.8888888888888888,
              "#fdca26"
             ],
             [
              1,
              "#f0f921"
             ]
            ],
            "type": "surface"
           }
          ],
          "table": [
           {
            "cells": {
             "fill": {
              "color": "#EBF0F8"
             },
             "line": {
              "color": "white"
             }
            },
            "header": {
             "fill": {
              "color": "#C8D4E3"
             },
             "line": {
              "color": "white"
             }
            },
            "type": "table"
           }
          ]
         },
         "layout": {
          "annotationdefaults": {
           "arrowcolor": "#2a3f5f",
           "arrowhead": 0,
           "arrowwidth": 1
          },
          "autotypenumbers": "strict",
          "coloraxis": {
           "colorbar": {
            "outlinewidth": 0,
            "ticks": ""
           }
          },
          "colorscale": {
           "diverging": [
            [
             0,
             "#8e0152"
            ],
            [
             0.1,
             "#c51b7d"
            ],
            [
             0.2,
             "#de77ae"
            ],
            [
             0.3,
             "#f1b6da"
            ],
            [
             0.4,
             "#fde0ef"
            ],
            [
             0.5,
             "#f7f7f7"
            ],
            [
             0.6,
             "#e6f5d0"
            ],
            [
             0.7,
             "#b8e186"
            ],
            [
             0.8,
             "#7fbc41"
            ],
            [
             0.9,
             "#4d9221"
            ],
            [
             1,
             "#276419"
            ]
           ],
           "sequential": [
            [
             0,
             "#0d0887"
            ],
            [
             0.1111111111111111,
             "#46039f"
            ],
            [
             0.2222222222222222,
             "#7201a8"
            ],
            [
             0.3333333333333333,
             "#9c179e"
            ],
            [
             0.4444444444444444,
             "#bd3786"
            ],
            [
             0.5555555555555556,
             "#d8576b"
            ],
            [
             0.6666666666666666,
             "#ed7953"
            ],
            [
             0.7777777777777778,
             "#fb9f3a"
            ],
            [
             0.8888888888888888,
             "#fdca26"
            ],
            [
             1,
             "#f0f921"
            ]
           ],
           "sequentialminus": [
            [
             0,
             "#0d0887"
            ],
            [
             0.1111111111111111,
             "#46039f"
            ],
            [
             0.2222222222222222,
             "#7201a8"
            ],
            [
             0.3333333333333333,
             "#9c179e"
            ],
            [
             0.4444444444444444,
             "#bd3786"
            ],
            [
             0.5555555555555556,
             "#d8576b"
            ],
            [
             0.6666666666666666,
             "#ed7953"
            ],
            [
             0.7777777777777778,
             "#fb9f3a"
            ],
            [
             0.8888888888888888,
             "#fdca26"
            ],
            [
             1,
             "#f0f921"
            ]
           ]
          },
          "colorway": [
           "#636efa",
           "#EF553B",
           "#00cc96",
           "#ab63fa",
           "#FFA15A",
           "#19d3f3",
           "#FF6692",
           "#B6E880",
           "#FF97FF",
           "#FECB52"
          ],
          "font": {
           "color": "#2a3f5f"
          },
          "geo": {
           "bgcolor": "white",
           "lakecolor": "white",
           "landcolor": "#E5ECF6",
           "showlakes": true,
           "showland": true,
           "subunitcolor": "white"
          },
          "hoverlabel": {
           "align": "left"
          },
          "hovermode": "closest",
          "mapbox": {
           "style": "light"
          },
          "paper_bgcolor": "white",
          "plot_bgcolor": "#E5ECF6",
          "polar": {
           "angularaxis": {
            "gridcolor": "white",
            "linecolor": "white",
            "ticks": ""
           },
           "bgcolor": "#E5ECF6",
           "radialaxis": {
            "gridcolor": "white",
            "linecolor": "white",
            "ticks": ""
           }
          },
          "scene": {
           "xaxis": {
            "backgroundcolor": "#E5ECF6",
            "gridcolor": "white",
            "gridwidth": 2,
            "linecolor": "white",
            "showbackground": true,
            "ticks": "",
            "zerolinecolor": "white"
           },
           "yaxis": {
            "backgroundcolor": "#E5ECF6",
            "gridcolor": "white",
            "gridwidth": 2,
            "linecolor": "white",
            "showbackground": true,
            "ticks": "",
            "zerolinecolor": "white"
           },
           "zaxis": {
            "backgroundcolor": "#E5ECF6",
            "gridcolor": "white",
            "gridwidth": 2,
            "linecolor": "white",
            "showbackground": true,
            "ticks": "",
            "zerolinecolor": "white"
           }
          },
          "shapedefaults": {
           "line": {
            "color": "#2a3f5f"
           }
          },
          "ternary": {
           "aaxis": {
            "gridcolor": "white",
            "linecolor": "white",
            "ticks": ""
           },
           "baxis": {
            "gridcolor": "white",
            "linecolor": "white",
            "ticks": ""
           },
           "bgcolor": "#E5ECF6",
           "caxis": {
            "gridcolor": "white",
            "linecolor": "white",
            "ticks": ""
           }
          },
          "title": {
           "x": 0.05
          },
          "xaxis": {
           "automargin": true,
           "gridcolor": "white",
           "linecolor": "white",
           "ticks": "",
           "title": {
            "standoff": 15
           },
           "zerolinecolor": "white",
           "zerolinewidth": 2
          },
          "yaxis": {
           "automargin": true,
           "gridcolor": "white",
           "linecolor": "white",
           "ticks": "",
           "title": {
            "standoff": 15
           },
           "zerolinecolor": "white",
           "zerolinewidth": 2
          }
         }
        },
        "xaxis": {
         "anchor": "y",
         "domain": [
          0,
          1
         ],
         "title": {
          "text": "name"
         }
        },
        "yaxis": {
         "anchor": "x",
         "domain": [
          0,
          1
         ],
         "title": {
          "text": "score"
         }
        }
       }
      }
     },
     "metadata": {},
     "output_type": "display_data"
    }
   ],
   "source": [
    "fig = px.box(df[(df['type'] == 'report') & (df['name'] != '')], x = \"name\", y = \"score\")\n",
    "fig.show()"
   ]
  }
 ],
 "metadata": {
  "kernelspec": {
   "display_name": "Python 3",
   "language": "python",
   "name": "python3"
  },
  "language_info": {
   "codemirror_mode": {
    "name": "ipython",
    "version": 3
   },
   "file_extension": ".py",
   "mimetype": "text/x-python",
   "name": "python",
   "nbconvert_exporter": "python",
   "pygments_lexer": "ipython3",
   "version": "3.12.9"
  }
 },
 "nbformat": 4,
 "nbformat_minor": 5
}
